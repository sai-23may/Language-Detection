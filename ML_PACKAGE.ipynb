{
  "nbformat": 4,
  "nbformat_minor": 0,
  "metadata": {
    "kernelspec": {
      "display_name": "Python 3",
      "language": "python",
      "name": "python3"
    },
    "language_info": {
      "codemirror_mode": {
        "name": "ipython",
        "version": 3
      },
      "file_extension": ".py",
      "mimetype": "text/x-python",
      "name": "python",
      "nbconvert_exporter": "python",
      "pygments_lexer": "ipython3",
      "version": "3.8.5"
    },
    "colab": {
      "name": "ML-PACKAGE.ipynb",
      "provenance": [],
      "collapsed_sections": [],
      "include_colab_link": true
    },
    "accelerator": "GPU"
  },
  "cells": [
    {
      "cell_type": "markdown",
      "metadata": {
        "id": "view-in-github",
        "colab_type": "text"
      },
      "source": [
        "<a href=\"https://colab.research.google.com/github/sai-23may/Language-Detection/blob/main/ML_PACKAGE.ipynb\" target=\"_parent\"><img src=\"https://colab.research.google.com/assets/colab-badge.svg\" alt=\"Open In Colab\"/></a>"
      ]
    },
    {
      "cell_type": "code",
      "metadata": {
        "id": "VGH7I-XD2grg"
      },
      "source": [
        ""
      ],
      "execution_count": null,
      "outputs": []
    },
    {
      "cell_type": "code",
      "metadata": {
        "id": "3v5o8jkf2iXj",
        "colab": {
          "base_uri": "https://localhost:8080/"
        },
        "outputId": "0d91ebd8-8fcd-41e3-f9c4-47322b066dd4"
      },
      "source": [
        "from google.colab import drive\n",
        "drive.mount('/content/drive')"
      ],
      "execution_count": null,
      "outputs": [
        {
          "output_type": "stream",
          "name": "stdout",
          "text": [
            "Mounted at /content/drive\n"
          ]
        }
      ]
    },
    {
      "cell_type": "code",
      "metadata": {
        "id": "FLpS3HJ12dOx"
      },
      "source": [
        "import string \n",
        "import re\n",
        "import codecs\n",
        "import numpy as np \n",
        "import pandas as pd\n",
        "import seaborn as sns\n",
        "import matplotlib.pyplot as plt\n",
        "from sklearn import feature_extraction\n",
        "from sklearn import linear_model\n",
        "from sklearn.naive_bayes import MultinomialNB\n",
        "from sklearn.linear_model import LogisticRegression\n",
        "from sklearn.tree import DecisionTreeClassifier\n",
        "from sklearn.ensemble import RandomForestClassifier\n",
        "from sklearn import pipeline\n",
        "from sklearn.model_selection import train_test_split\n",
        "from sklearn import metrics\n",
        "import itertools"
      ],
      "execution_count": null,
      "outputs": []
    },
    {
      "cell_type": "code",
      "metadata": {
        "id": "BgGP3xq40Z7L"
      },
      "source": [
        "import warnings\n",
        "warnings.filterwarnings(\"ignore\")"
      ],
      "execution_count": null,
      "outputs": []
    },
    {
      "cell_type": "markdown",
      "metadata": {
        "id": "AFMDXON0MJa5"
      },
      "source": [
        "# LOADING DATA"
      ]
    },
    {
      "cell_type": "code",
      "metadata": {
        "colab": {
          "base_uri": "https://localhost:8080/",
          "height": 206
        },
        "id": "YYMy5hc02dO4",
        "outputId": "4cb87ef8-1ca9-4452-f9fc-f4aaea4976ba"
      },
      "source": [
        "english_df = pd.read_csv(\"/content/drive/MyDrive/zip/europarl-v7.bg-en.en\", header=None, names=[\"English\"])\n",
        "english_df.head()"
      ],
      "execution_count": null,
      "outputs": [
        {
          "output_type": "execute_result",
          "data": {
            "text/html": [
              "<div>\n",
              "<style scoped>\n",
              "    .dataframe tbody tr th:only-of-type {\n",
              "        vertical-align: middle;\n",
              "    }\n",
              "\n",
              "    .dataframe tbody tr th {\n",
              "        vertical-align: top;\n",
              "    }\n",
              "\n",
              "    .dataframe thead th {\n",
              "        text-align: right;\n",
              "    }\n",
              "</style>\n",
              "<table border=\"1\" class=\"dataframe\">\n",
              "  <thead>\n",
              "    <tr style=\"text-align: right;\">\n",
              "      <th></th>\n",
              "      <th>English</th>\n",
              "    </tr>\n",
              "  </thead>\n",
              "  <tbody>\n",
              "    <tr>\n",
              "      <th>0</th>\n",
              "      <td>Membership of Parliament: see Minutes</td>\n",
              "    </tr>\n",
              "    <tr>\n",
              "      <th>1</th>\n",
              "      <td>Approval of Minutes of previous sitting: see M...</td>\n",
              "    </tr>\n",
              "    <tr>\n",
              "      <th>2</th>\n",
              "      <td>Membership of Parliament: see Minutes</td>\n",
              "    </tr>\n",
              "    <tr>\n",
              "      <th>3</th>\n",
              "      <td>Verification of credentials: see Minutes</td>\n",
              "    </tr>\n",
              "    <tr>\n",
              "      <th>4</th>\n",
              "      <td>Documents received: see Minutes</td>\n",
              "    </tr>\n",
              "  </tbody>\n",
              "</table>\n",
              "</div>"
            ],
            "text/plain": [
              "                                             English\n",
              "0              Membership of Parliament: see Minutes\n",
              "1  Approval of Minutes of previous sitting: see M...\n",
              "2              Membership of Parliament: see Minutes\n",
              "3           Verification of credentials: see Minutes\n",
              "4                    Documents received: see Minutes"
            ]
          },
          "metadata": {},
          "execution_count": 4
        }
      ]
    },
    {
      "cell_type": "code",
      "metadata": {
        "id": "Tl5wLr7h2dO6"
      },
      "source": [
        "english_df=english_df[0:10000]"
      ],
      "execution_count": null,
      "outputs": []
    },
    {
      "cell_type": "code",
      "metadata": {
        "colab": {
          "base_uri": "https://localhost:8080/",
          "height": 206
        },
        "id": "X4faiRG_2dO7",
        "outputId": "656abf8d-150b-42ff-c0aa-064dab5b6ef3"
      },
      "source": [
        "german_df = pd.read_csv(\"/content/drive/MyDrive/zip/europarl-v7.de-en.de\", header=None, names=[\"German\"])\n",
        "german_df.head()"
      ],
      "execution_count": null,
      "outputs": [
        {
          "output_type": "execute_result",
          "data": {
            "text/html": [
              "<div>\n",
              "<style scoped>\n",
              "    .dataframe tbody tr th:only-of-type {\n",
              "        vertical-align: middle;\n",
              "    }\n",
              "\n",
              "    .dataframe tbody tr th {\n",
              "        vertical-align: top;\n",
              "    }\n",
              "\n",
              "    .dataframe thead th {\n",
              "        text-align: right;\n",
              "    }\n",
              "</style>\n",
              "<table border=\"1\" class=\"dataframe\">\n",
              "  <thead>\n",
              "    <tr style=\"text-align: right;\">\n",
              "      <th></th>\n",
              "      <th>German</th>\n",
              "    </tr>\n",
              "  </thead>\n",
              "  <tbody>\n",
              "    <tr>\n",
              "      <th>0</th>\n",
              "      <td>Wiederaufnahme der Sitzungsperiode</td>\n",
              "    </tr>\n",
              "    <tr>\n",
              "      <th>1</th>\n",
              "      <td>Ich erkläre die am Freitag</td>\n",
              "    </tr>\n",
              "    <tr>\n",
              "      <th>2</th>\n",
              "      <td>Wie Sie feststellen konnten</td>\n",
              "    </tr>\n",
              "    <tr>\n",
              "      <th>3</th>\n",
              "      <td>Im Parlament besteht der Wunsch nach einer Aus...</td>\n",
              "    </tr>\n",
              "    <tr>\n",
              "      <th>4</th>\n",
              "      <td>Heute möchte ich Sie bitten - das ist auch der...</td>\n",
              "    </tr>\n",
              "  </tbody>\n",
              "</table>\n",
              "</div>"
            ],
            "text/plain": [
              "                                              German\n",
              "0                 Wiederaufnahme der Sitzungsperiode\n",
              "1                         Ich erkläre die am Freitag\n",
              "2                        Wie Sie feststellen konnten\n",
              "3  Im Parlament besteht der Wunsch nach einer Aus...\n",
              "4  Heute möchte ich Sie bitten - das ist auch der..."
            ]
          },
          "metadata": {},
          "execution_count": 6
        }
      ]
    },
    {
      "cell_type": "code",
      "metadata": {
        "colab": {
          "base_uri": "https://localhost:8080/"
        },
        "id": "ZHE-IjUl2dO8",
        "outputId": "469b5485-36aa-42ec-e2e0-f8d3625ee22b"
      },
      "source": [
        "german_df.shape"
      ],
      "execution_count": null,
      "outputs": [
        {
          "output_type": "execute_result",
          "data": {
            "text/plain": [
              "(1916469, 1)"
            ]
          },
          "metadata": {},
          "execution_count": 7
        }
      ]
    },
    {
      "cell_type": "code",
      "metadata": {
        "id": "wri32aRC2dO8"
      },
      "source": [
        "german_df=german_df[0:10000]"
      ],
      "execution_count": null,
      "outputs": []
    },
    {
      "cell_type": "code",
      "metadata": {
        "scrolled": true,
        "colab": {
          "base_uri": "https://localhost:8080/",
          "height": 206
        },
        "id": "lBef8cLd2dO9",
        "outputId": "e18ffd01-e056-49db-e023-e5e81e322544"
      },
      "source": [
        "french_df = pd.read_csv(\"/content/drive/MyDrive/zip/europarl-v7.fr-en.fr\", header=None, names=[\"French\"])\n",
        "french_df.head()"
      ],
      "execution_count": null,
      "outputs": [
        {
          "output_type": "execute_result",
          "data": {
            "text/html": [
              "<div>\n",
              "<style scoped>\n",
              "    .dataframe tbody tr th:only-of-type {\n",
              "        vertical-align: middle;\n",
              "    }\n",
              "\n",
              "    .dataframe tbody tr th {\n",
              "        vertical-align: top;\n",
              "    }\n",
              "\n",
              "    .dataframe thead th {\n",
              "        text-align: right;\n",
              "    }\n",
              "</style>\n",
              "<table border=\"1\" class=\"dataframe\">\n",
              "  <thead>\n",
              "    <tr style=\"text-align: right;\">\n",
              "      <th></th>\n",
              "      <th>French</th>\n",
              "    </tr>\n",
              "  </thead>\n",
              "  <tbody>\n",
              "    <tr>\n",
              "      <th>0</th>\n",
              "      <td>Reprise de la session</td>\n",
              "    </tr>\n",
              "    <tr>\n",
              "      <th>1</th>\n",
              "      <td>Je déclare reprise la session du Parlement eur...</td>\n",
              "    </tr>\n",
              "    <tr>\n",
              "      <th>2</th>\n",
              "      <td>Comme vous avez pu le constater</td>\n",
              "    </tr>\n",
              "    <tr>\n",
              "      <th>3</th>\n",
              "      <td>Vous avez souhaité un débat à ce sujet dans le...</td>\n",
              "    </tr>\n",
              "    <tr>\n",
              "      <th>4</th>\n",
              "      <td>En attendant</td>\n",
              "    </tr>\n",
              "  </tbody>\n",
              "</table>\n",
              "</div>"
            ],
            "text/plain": [
              "                                              French\n",
              "0                              Reprise de la session\n",
              "1  Je déclare reprise la session du Parlement eur...\n",
              "2                    Comme vous avez pu le constater\n",
              "3  Vous avez souhaité un débat à ce sujet dans le...\n",
              "4                                       En attendant"
            ]
          },
          "metadata": {},
          "execution_count": 9
        }
      ]
    },
    {
      "cell_type": "code",
      "metadata": {
        "id": "foDDK6Gm2dO-"
      },
      "source": [
        "french_df=french_df[0:10000]"
      ],
      "execution_count": null,
      "outputs": []
    },
    {
      "cell_type": "code",
      "metadata": {
        "scrolled": true,
        "colab": {
          "base_uri": "https://localhost:8080/",
          "height": 206
        },
        "id": "X_CGEno_2dO_",
        "outputId": "406b71b1-c6a8-4386-9604-03ebd3643059"
      },
      "source": [
        "spanish_df = pd.read_csv(\"/content/drive/MyDrive/zip/europarl-v7.es-en.es\", header=None, names=[\"Spanish\"])\n",
        "spanish_df.head()"
      ],
      "execution_count": null,
      "outputs": [
        {
          "output_type": "execute_result",
          "data": {
            "text/html": [
              "<div>\n",
              "<style scoped>\n",
              "    .dataframe tbody tr th:only-of-type {\n",
              "        vertical-align: middle;\n",
              "    }\n",
              "\n",
              "    .dataframe tbody tr th {\n",
              "        vertical-align: top;\n",
              "    }\n",
              "\n",
              "    .dataframe thead th {\n",
              "        text-align: right;\n",
              "    }\n",
              "</style>\n",
              "<table border=\"1\" class=\"dataframe\">\n",
              "  <thead>\n",
              "    <tr style=\"text-align: right;\">\n",
              "      <th></th>\n",
              "      <th>Spanish</th>\n",
              "    </tr>\n",
              "  </thead>\n",
              "  <tbody>\n",
              "    <tr>\n",
              "      <th>0</th>\n",
              "      <td>Reanudación del período de sesiones</td>\n",
              "    </tr>\n",
              "    <tr>\n",
              "      <th>1</th>\n",
              "      <td>Declaro reanudado el período de sesiones del P...</td>\n",
              "    </tr>\n",
              "    <tr>\n",
              "      <th>2</th>\n",
              "      <td>Como todos han podido comprobar</td>\n",
              "    </tr>\n",
              "    <tr>\n",
              "      <th>3</th>\n",
              "      <td>Sus Señorías han solicitado un debate sobre el...</td>\n",
              "    </tr>\n",
              "    <tr>\n",
              "      <th>4</th>\n",
              "      <td>A la espera de que se produzca</td>\n",
              "    </tr>\n",
              "  </tbody>\n",
              "</table>\n",
              "</div>"
            ],
            "text/plain": [
              "                                             Spanish\n",
              "0                Reanudación del período de sesiones\n",
              "1  Declaro reanudado el período de sesiones del P...\n",
              "2                    Como todos han podido comprobar\n",
              "3  Sus Señorías han solicitado un debate sobre el...\n",
              "4                     A la espera de que se produzca"
            ]
          },
          "metadata": {},
          "execution_count": 11
        }
      ]
    },
    {
      "cell_type": "code",
      "metadata": {
        "id": "HAbQY_H82dPA"
      },
      "source": [
        "spanish_df=spanish_df[0:10000]"
      ],
      "execution_count": null,
      "outputs": []
    },
    {
      "cell_type": "code",
      "metadata": {
        "scrolled": true,
        "colab": {
          "base_uri": "https://localhost:8080/",
          "height": 206
        },
        "id": "cpjYNTG12dPB",
        "outputId": "a4e132fc-8f80-4e9f-c08e-61878ae4c608"
      },
      "source": [
        "bulgarian_df = pd.read_csv(\"/content/drive/MyDrive/zip/europarl-v7.bg-en.bg\", header=None, names=['Bulgarian'])\n",
        "bulgarian_df.head()"
      ],
      "execution_count": null,
      "outputs": [
        {
          "output_type": "execute_result",
          "data": {
            "text/html": [
              "<div>\n",
              "<style scoped>\n",
              "    .dataframe tbody tr th:only-of-type {\n",
              "        vertical-align: middle;\n",
              "    }\n",
              "\n",
              "    .dataframe tbody tr th {\n",
              "        vertical-align: top;\n",
              "    }\n",
              "\n",
              "    .dataframe thead th {\n",
              "        text-align: right;\n",
              "    }\n",
              "</style>\n",
              "<table border=\"1\" class=\"dataframe\">\n",
              "  <thead>\n",
              "    <tr style=\"text-align: right;\">\n",
              "      <th></th>\n",
              "      <th>Bulgarian</th>\n",
              "    </tr>\n",
              "  </thead>\n",
              "  <tbody>\n",
              "    <tr>\n",
              "      <th>0</th>\n",
              "      <td>Състав на Парламента: вж. протоколи</td>\n",
              "    </tr>\n",
              "    <tr>\n",
              "      <th>1</th>\n",
              "      <td>Одобряване на протокола от предишното заседани...</td>\n",
              "    </tr>\n",
              "    <tr>\n",
              "      <th>2</th>\n",
              "      <td>Състав на Парламента: вж. протоколи</td>\n",
              "    </tr>\n",
              "    <tr>\n",
              "      <th>3</th>\n",
              "      <td>Проверка на пълномощията: вж. протоколи</td>\n",
              "    </tr>\n",
              "    <tr>\n",
              "      <th>4</th>\n",
              "      <td>Внасяне на документи: вж. протоколи</td>\n",
              "    </tr>\n",
              "  </tbody>\n",
              "</table>\n",
              "</div>"
            ],
            "text/plain": [
              "                                           Bulgarian\n",
              "0                Състав на Парламента: вж. протоколи\n",
              "1  Одобряване на протокола от предишното заседани...\n",
              "2                Състав на Парламента: вж. протоколи\n",
              "3            Проверка на пълномощията: вж. протоколи\n",
              "4                Внасяне на документи: вж. протоколи"
            ]
          },
          "metadata": {},
          "execution_count": 13
        }
      ]
    },
    {
      "cell_type": "code",
      "metadata": {
        "id": "attyLT7q2dPC"
      },
      "source": [
        "bulgarian_df=bulgarian_df[0:10000]"
      ],
      "execution_count": null,
      "outputs": []
    },
    {
      "cell_type": "code",
      "metadata": {
        "scrolled": true,
        "colab": {
          "base_uri": "https://localhost:8080/",
          "height": 206
        },
        "id": "qvXZ-OSw2dPC",
        "outputId": "7592f1fd-8777-4cc1-8e3b-3ecd751ed480"
      },
      "source": [
        "czech_df = pd.read_csv(\"/content/drive/MyDrive/zip/europarl-v7.cs-en.cs\", header=None, names=['Czech'])\n",
        "czech_df.head()"
      ],
      "execution_count": null,
      "outputs": [
        {
          "output_type": "execute_result",
          "data": {
            "text/html": [
              "<div>\n",
              "<style scoped>\n",
              "    .dataframe tbody tr th:only-of-type {\n",
              "        vertical-align: middle;\n",
              "    }\n",
              "\n",
              "    .dataframe tbody tr th {\n",
              "        vertical-align: top;\n",
              "    }\n",
              "\n",
              "    .dataframe thead th {\n",
              "        text-align: right;\n",
              "    }\n",
              "</style>\n",
              "<table border=\"1\" class=\"dataframe\">\n",
              "  <thead>\n",
              "    <tr style=\"text-align: right;\">\n",
              "      <th></th>\n",
              "      <th>Czech</th>\n",
              "    </tr>\n",
              "  </thead>\n",
              "  <tbody>\n",
              "    <tr>\n",
              "      <th>0</th>\n",
              "      <td>Následný postup na základě usnesení Parlamentu...</td>\n",
              "    </tr>\n",
              "    <tr>\n",
              "      <th>1</th>\n",
              "      <td>Předložení dokumentů: viz zápis</td>\n",
              "    </tr>\n",
              "    <tr>\n",
              "      <th>2</th>\n",
              "      <td>Písemná prohlášení (článek 116 jednacího řádu)...</td>\n",
              "    </tr>\n",
              "    <tr>\n",
              "      <th>3</th>\n",
              "      <td>Texty smluv dodané Radou: viz zápis</td>\n",
              "    </tr>\n",
              "    <tr>\n",
              "      <th>4</th>\n",
              "      <td>Složení Parlamentu: viz zápis</td>\n",
              "    </tr>\n",
              "  </tbody>\n",
              "</table>\n",
              "</div>"
            ],
            "text/plain": [
              "                                               Czech\n",
              "0  Následný postup na základě usnesení Parlamentu...\n",
              "1                    Předložení dokumentů: viz zápis\n",
              "2  Písemná prohlášení (článek 116 jednacího řádu)...\n",
              "3                Texty smluv dodané Radou: viz zápis\n",
              "4                      Složení Parlamentu: viz zápis"
            ]
          },
          "metadata": {},
          "execution_count": 15
        }
      ]
    },
    {
      "cell_type": "code",
      "metadata": {
        "id": "EozSB5gG2dPD"
      },
      "source": [
        "czech_df=czech_df[0:10000]"
      ],
      "execution_count": null,
      "outputs": []
    },
    {
      "cell_type": "code",
      "metadata": {
        "scrolled": true,
        "colab": {
          "base_uri": "https://localhost:8080/",
          "height": 206
        },
        "id": "GVGaRrzo2dPE",
        "outputId": "8737ac6d-ac4c-47ac-f49f-c9896bcf7e93"
      },
      "source": [
        "danish_df = pd.read_csv('/content/drive/MyDrive/zip/europarl-v7.da-en.da', header=None, names=['Danish'])\n",
        "danish_df.head()"
      ],
      "execution_count": null,
      "outputs": [
        {
          "output_type": "execute_result",
          "data": {
            "text/html": [
              "<div>\n",
              "<style scoped>\n",
              "    .dataframe tbody tr th:only-of-type {\n",
              "        vertical-align: middle;\n",
              "    }\n",
              "\n",
              "    .dataframe tbody tr th {\n",
              "        vertical-align: top;\n",
              "    }\n",
              "\n",
              "    .dataframe thead th {\n",
              "        text-align: right;\n",
              "    }\n",
              "</style>\n",
              "<table border=\"1\" class=\"dataframe\">\n",
              "  <thead>\n",
              "    <tr style=\"text-align: right;\">\n",
              "      <th></th>\n",
              "      <th>Danish</th>\n",
              "    </tr>\n",
              "  </thead>\n",
              "  <tbody>\n",
              "    <tr>\n",
              "      <th>0</th>\n",
              "      <td>Genoptagelse af sessionen</td>\n",
              "    </tr>\n",
              "    <tr>\n",
              "      <th>1</th>\n",
              "      <td>Jeg erklærer Europa-Parlamentets session</td>\n",
              "    </tr>\n",
              "    <tr>\n",
              "      <th>2</th>\n",
              "      <td>Som De kan se</td>\n",
              "    </tr>\n",
              "    <tr>\n",
              "      <th>3</th>\n",
              "      <td>De har udtrykt ønske om en debat om dette emne...</td>\n",
              "    </tr>\n",
              "    <tr>\n",
              "      <th>4</th>\n",
              "      <td>I mellemtiden ønsker jeg - som også en del kol...</td>\n",
              "    </tr>\n",
              "  </tbody>\n",
              "</table>\n",
              "</div>"
            ],
            "text/plain": [
              "                                              Danish\n",
              "0                          Genoptagelse af sessionen\n",
              "1           Jeg erklærer Europa-Parlamentets session\n",
              "2                                      Som De kan se\n",
              "3  De har udtrykt ønske om en debat om dette emne...\n",
              "4  I mellemtiden ønsker jeg - som også en del kol..."
            ]
          },
          "metadata": {},
          "execution_count": 17
        }
      ]
    },
    {
      "cell_type": "code",
      "metadata": {
        "id": "SiyoscP_2dPE"
      },
      "source": [
        "danish_df=danish_df[0:10000]"
      ],
      "execution_count": null,
      "outputs": []
    },
    {
      "cell_type": "code",
      "metadata": {
        "scrolled": true,
        "colab": {
          "base_uri": "https://localhost:8080/",
          "height": 206
        },
        "id": "AQGt3MrE2dPF",
        "outputId": "ab4d9eb3-8ab1-457c-9c50-01d8650cbf28"
      },
      "source": [
        "finnish_df = pd.read_csv('/content/drive/MyDrive/zip/europarl-v7.fi-en.fi', header=None, names=['Finnish'])\n",
        "finnish_df.head()"
      ],
      "execution_count": null,
      "outputs": [
        {
          "output_type": "execute_result",
          "data": {
            "text/html": [
              "<div>\n",
              "<style scoped>\n",
              "    .dataframe tbody tr th:only-of-type {\n",
              "        vertical-align: middle;\n",
              "    }\n",
              "\n",
              "    .dataframe tbody tr th {\n",
              "        vertical-align: top;\n",
              "    }\n",
              "\n",
              "    .dataframe thead th {\n",
              "        text-align: right;\n",
              "    }\n",
              "</style>\n",
              "<table border=\"1\" class=\"dataframe\">\n",
              "  <thead>\n",
              "    <tr style=\"text-align: right;\">\n",
              "      <th></th>\n",
              "      <th>Finnish</th>\n",
              "    </tr>\n",
              "  </thead>\n",
              "  <tbody>\n",
              "    <tr>\n",
              "      <th>0</th>\n",
              "      <td>Istuntokauden uudelleenavaaminen</td>\n",
              "    </tr>\n",
              "    <tr>\n",
              "      <th>1</th>\n",
              "      <td>Julistan perjantaina joulukuun 17. päivänä kes...</td>\n",
              "    </tr>\n",
              "    <tr>\n",
              "      <th>2</th>\n",
              "      <td>Kuten olette varmaan saattaneet huomata</td>\n",
              "    </tr>\n",
              "    <tr>\n",
              "      <th>3</th>\n",
              "      <td>Te olette esittäneet toiveen</td>\n",
              "    </tr>\n",
              "    <tr>\n",
              "      <th>4</th>\n",
              "      <td>Sillä välin toivoisin</td>\n",
              "    </tr>\n",
              "  </tbody>\n",
              "</table>\n",
              "</div>"
            ],
            "text/plain": [
              "                                             Finnish\n",
              "0                   Istuntokauden uudelleenavaaminen\n",
              "1  Julistan perjantaina joulukuun 17. päivänä kes...\n",
              "2            Kuten olette varmaan saattaneet huomata\n",
              "3                       Te olette esittäneet toiveen\n",
              "4                              Sillä välin toivoisin"
            ]
          },
          "metadata": {},
          "execution_count": 19
        }
      ]
    },
    {
      "cell_type": "code",
      "metadata": {
        "id": "LxBoUflu2dPF"
      },
      "source": [
        "finnish_df=finnish_df[0:10000]"
      ],
      "execution_count": null,
      "outputs": []
    },
    {
      "cell_type": "code",
      "metadata": {
        "scrolled": true,
        "colab": {
          "base_uri": "https://localhost:8080/",
          "height": 206
        },
        "id": "vBlhl9w92dPG",
        "outputId": "80aac8c6-7635-4e98-bf77-c1f804c229ff"
      },
      "source": [
        "hungarian_df = pd.read_csv('/content/drive/MyDrive/zip/europarl-v7.hu-en.hu', header=None, names=['Hungarian'])\n",
        "hungarian_df.head()"
      ],
      "execution_count": null,
      "outputs": [
        {
          "output_type": "execute_result",
          "data": {
            "text/html": [
              "<div>\n",
              "<style scoped>\n",
              "    .dataframe tbody tr th:only-of-type {\n",
              "        vertical-align: middle;\n",
              "    }\n",
              "\n",
              "    .dataframe tbody tr th {\n",
              "        vertical-align: top;\n",
              "    }\n",
              "\n",
              "    .dataframe thead th {\n",
              "        text-align: right;\n",
              "    }\n",
              "</style>\n",
              "<table border=\"1\" class=\"dataframe\">\n",
              "  <thead>\n",
              "    <tr style=\"text-align: right;\">\n",
              "      <th></th>\n",
              "      <th>Hungarian</th>\n",
              "    </tr>\n",
              "  </thead>\n",
              "  <tbody>\n",
              "    <tr>\n",
              "      <th>0</th>\n",
              "      <td>A Parlament állásfoglalásaival kapcsolatos tov...</td>\n",
              "    </tr>\n",
              "    <tr>\n",
              "      <th>1</th>\n",
              "      <td>Dokumentumok benyújtása: lásd a jegyzőkönyvet</td>\n",
              "    </tr>\n",
              "    <tr>\n",
              "      <th>2</th>\n",
              "      <td>Írásbeli nyilatkozatok (az Eljárási Szabályzat...</td>\n",
              "    </tr>\n",
              "    <tr>\n",
              "      <th>3</th>\n",
              "      <td>A megállapodások szövegeinek Tanács általi elő...</td>\n",
              "    </tr>\n",
              "    <tr>\n",
              "      <th>4</th>\n",
              "      <td>A Parlament tagjai: lásd a jegyzőkönyvet</td>\n",
              "    </tr>\n",
              "  </tbody>\n",
              "</table>\n",
              "</div>"
            ],
            "text/plain": [
              "                                           Hungarian\n",
              "0  A Parlament állásfoglalásaival kapcsolatos tov...\n",
              "1      Dokumentumok benyújtása: lásd a jegyzőkönyvet\n",
              "2  Írásbeli nyilatkozatok (az Eljárási Szabályzat...\n",
              "3  A megállapodások szövegeinek Tanács általi elő...\n",
              "4           A Parlament tagjai: lásd a jegyzőkönyvet"
            ]
          },
          "metadata": {},
          "execution_count": 21
        }
      ]
    },
    {
      "cell_type": "code",
      "metadata": {
        "id": "T9fbt-DR2dPG"
      },
      "source": [
        "hungarian_df=hungarian_df[0:10000]"
      ],
      "execution_count": null,
      "outputs": []
    },
    {
      "cell_type": "code",
      "metadata": {
        "scrolled": true,
        "colab": {
          "base_uri": "https://localhost:8080/",
          "height": 206
        },
        "id": "GCFTlC6Q2dPH",
        "outputId": "aba11473-c92e-4dbd-c999-fd5c9470d490"
      },
      "source": [
        "latvian_df = pd.read_csv('/content/drive/MyDrive/zip/europarl-v7.lv-en.lv', header=None, names=['Latvian'])\n",
        "latvian_df.head()"
      ],
      "execution_count": null,
      "outputs": [
        {
          "output_type": "execute_result",
          "data": {
            "text/html": [
              "<div>\n",
              "<style scoped>\n",
              "    .dataframe tbody tr th:only-of-type {\n",
              "        vertical-align: middle;\n",
              "    }\n",
              "\n",
              "    .dataframe tbody tr th {\n",
              "        vertical-align: top;\n",
              "    }\n",
              "\n",
              "    .dataframe thead th {\n",
              "        text-align: right;\n",
              "    }\n",
              "</style>\n",
              "<table border=\"1\" class=\"dataframe\">\n",
              "  <thead>\n",
              "    <tr style=\"text-align: right;\">\n",
              "      <th></th>\n",
              "      <th>Latvian</th>\n",
              "    </tr>\n",
              "  </thead>\n",
              "  <tbody>\n",
              "    <tr>\n",
              "      <th>0</th>\n",
              "      <td>Saistībā ar Parlamenta rezolūcijām veiktie pas...</td>\n",
              "    </tr>\n",
              "    <tr>\n",
              "      <th>1</th>\n",
              "      <td>Dokumentu iesniegšana (sk. protokolu)</td>\n",
              "    </tr>\n",
              "    <tr>\n",
              "      <th>2</th>\n",
              "      <td>Rakstiskas deklarācijas (Reglamenta 116. pants...</td>\n",
              "    </tr>\n",
              "    <tr>\n",
              "      <th>3</th>\n",
              "      <td>Padomes nosūtītie nolīgumu teksti (sk. protokolu)</td>\n",
              "    </tr>\n",
              "    <tr>\n",
              "      <th>4</th>\n",
              "      <td>Parlamenta sastāvs (sk. protokolu)</td>\n",
              "    </tr>\n",
              "  </tbody>\n",
              "</table>\n",
              "</div>"
            ],
            "text/plain": [
              "                                             Latvian\n",
              "0  Saistībā ar Parlamenta rezolūcijām veiktie pas...\n",
              "1              Dokumentu iesniegšana (sk. protokolu)\n",
              "2  Rakstiskas deklarācijas (Reglamenta 116. pants...\n",
              "3  Padomes nosūtītie nolīgumu teksti (sk. protokolu)\n",
              "4                 Parlamenta sastāvs (sk. protokolu)"
            ]
          },
          "metadata": {},
          "execution_count": 23
        }
      ]
    },
    {
      "cell_type": "code",
      "metadata": {
        "id": "Y0iCd5qp2dPI"
      },
      "source": [
        "latvian_df=latvian_df[0:10000]"
      ],
      "execution_count": null,
      "outputs": []
    },
    {
      "cell_type": "code",
      "metadata": {
        "scrolled": true,
        "colab": {
          "base_uri": "https://localhost:8080/",
          "height": 206
        },
        "id": "cyTLirBT2dPI",
        "outputId": "bc3fc956-15a5-4430-ae99-fc5408b7e061"
      },
      "source": [
        "dutch_df = pd.read_csv('/content/drive/MyDrive/zip/europarl-v7.nl-en.nl', header=None, names=['Dutch'])\n",
        "dutch_df.head()"
      ],
      "execution_count": null,
      "outputs": [
        {
          "output_type": "execute_result",
          "data": {
            "text/html": [
              "<div>\n",
              "<style scoped>\n",
              "    .dataframe tbody tr th:only-of-type {\n",
              "        vertical-align: middle;\n",
              "    }\n",
              "\n",
              "    .dataframe tbody tr th {\n",
              "        vertical-align: top;\n",
              "    }\n",
              "\n",
              "    .dataframe thead th {\n",
              "        text-align: right;\n",
              "    }\n",
              "</style>\n",
              "<table border=\"1\" class=\"dataframe\">\n",
              "  <thead>\n",
              "    <tr style=\"text-align: right;\">\n",
              "      <th></th>\n",
              "      <th>Dutch</th>\n",
              "    </tr>\n",
              "  </thead>\n",
              "  <tbody>\n",
              "    <tr>\n",
              "      <th>0</th>\n",
              "      <td>Hervatting van de zitting</td>\n",
              "    </tr>\n",
              "    <tr>\n",
              "      <th>1</th>\n",
              "      <td>Ik verklaar de zitting van het Europees Parlement</td>\n",
              "    </tr>\n",
              "    <tr>\n",
              "      <th>2</th>\n",
              "      <td>Zoals u heeft kunnen constateren</td>\n",
              "    </tr>\n",
              "    <tr>\n",
              "      <th>3</th>\n",
              "      <td>U heeft aangegeven dat u deze vergaderperiode ...</td>\n",
              "    </tr>\n",
              "    <tr>\n",
              "      <th>4</th>\n",
              "      <td>Nu wil ik graag op verzoek van een aantal coll...</td>\n",
              "    </tr>\n",
              "  </tbody>\n",
              "</table>\n",
              "</div>"
            ],
            "text/plain": [
              "                                               Dutch\n",
              "0                          Hervatting van de zitting\n",
              "1  Ik verklaar de zitting van het Europees Parlement\n",
              "2                   Zoals u heeft kunnen constateren\n",
              "3  U heeft aangegeven dat u deze vergaderperiode ...\n",
              "4  Nu wil ik graag op verzoek van een aantal coll..."
            ]
          },
          "metadata": {},
          "execution_count": 25
        }
      ]
    },
    {
      "cell_type": "code",
      "metadata": {
        "id": "8IryYBmn2dPJ"
      },
      "source": [
        "dutch_df=dutch_df[0:10000]"
      ],
      "execution_count": null,
      "outputs": []
    },
    {
      "cell_type": "code",
      "metadata": {
        "scrolled": true,
        "colab": {
          "base_uri": "https://localhost:8080/",
          "height": 206
        },
        "id": "c_l4XZHv2dPJ",
        "outputId": "189da0aa-c68d-417b-c091-a17d1e76e7ce"
      },
      "source": [
        "polish_df = pd.read_csv('/content/drive/MyDrive/zip/europarl-v7.pl-en.pl', header=None, names=['Polish'])\n",
        "polish_df.head()"
      ],
      "execution_count": null,
      "outputs": [
        {
          "output_type": "execute_result",
          "data": {
            "text/html": [
              "<div>\n",
              "<style scoped>\n",
              "    .dataframe tbody tr th:only-of-type {\n",
              "        vertical-align: middle;\n",
              "    }\n",
              "\n",
              "    .dataframe tbody tr th {\n",
              "        vertical-align: top;\n",
              "    }\n",
              "\n",
              "    .dataframe thead th {\n",
              "        text-align: right;\n",
              "    }\n",
              "</style>\n",
              "<table border=\"1\" class=\"dataframe\">\n",
              "  <thead>\n",
              "    <tr style=\"text-align: right;\">\n",
              "      <th></th>\n",
              "      <th>Polish</th>\n",
              "    </tr>\n",
              "  </thead>\n",
              "  <tbody>\n",
              "    <tr>\n",
              "      <th>0</th>\n",
              "      <td>Działania podjęte w wyniku rezolucji Parlament...</td>\n",
              "    </tr>\n",
              "    <tr>\n",
              "      <th>1</th>\n",
              "      <td>Składanie dokumentów: patrz protokół</td>\n",
              "    </tr>\n",
              "    <tr>\n",
              "      <th>2</th>\n",
              "      <td>Oświadczenia pisemne (art. 116 Regulaminu): pa...</td>\n",
              "    </tr>\n",
              "    <tr>\n",
              "      <th>3</th>\n",
              "      <td>Teksty porozumień przekazane przez Radę: patrz...</td>\n",
              "    </tr>\n",
              "    <tr>\n",
              "      <th>4</th>\n",
              "      <td>Skład Parlamentu: patrz protokół</td>\n",
              "    </tr>\n",
              "  </tbody>\n",
              "</table>\n",
              "</div>"
            ],
            "text/plain": [
              "                                              Polish\n",
              "0  Działania podjęte w wyniku rezolucji Parlament...\n",
              "1               Składanie dokumentów: patrz protokół\n",
              "2  Oświadczenia pisemne (art. 116 Regulaminu): pa...\n",
              "3  Teksty porozumień przekazane przez Radę: patrz...\n",
              "4                   Skład Parlamentu: patrz protokół"
            ]
          },
          "metadata": {},
          "execution_count": 27
        }
      ]
    },
    {
      "cell_type": "code",
      "metadata": {
        "id": "KvafATun2dPJ"
      },
      "source": [
        "polish_df=polish_df[0:10000]"
      ],
      "execution_count": null,
      "outputs": []
    },
    {
      "cell_type": "code",
      "metadata": {
        "scrolled": true,
        "colab": {
          "base_uri": "https://localhost:8080/",
          "height": 206
        },
        "id": "8FGJdEy92dPK",
        "outputId": "cf2d5f01-8560-467e-c6fa-7b4f107a1afe"
      },
      "source": [
        "portuguese_data = pd.read_csv('/content/drive/MyDrive/zip/europarl-v7.pt-en.pt', header=None, names=['Portuguese'])\n",
        "portuguese_data.head()"
      ],
      "execution_count": null,
      "outputs": [
        {
          "output_type": "execute_result",
          "data": {
            "text/html": [
              "<div>\n",
              "<style scoped>\n",
              "    .dataframe tbody tr th:only-of-type {\n",
              "        vertical-align: middle;\n",
              "    }\n",
              "\n",
              "    .dataframe tbody tr th {\n",
              "        vertical-align: top;\n",
              "    }\n",
              "\n",
              "    .dataframe thead th {\n",
              "        text-align: right;\n",
              "    }\n",
              "</style>\n",
              "<table border=\"1\" class=\"dataframe\">\n",
              "  <thead>\n",
              "    <tr style=\"text-align: right;\">\n",
              "      <th></th>\n",
              "      <th>Portuguese</th>\n",
              "    </tr>\n",
              "  </thead>\n",
              "  <tbody>\n",
              "    <tr>\n",
              "      <th>0</th>\n",
              "      <td>Reinício da sessão</td>\n",
              "    </tr>\n",
              "    <tr>\n",
              "      <th>1</th>\n",
              "      <td>Declaro reaberta a sessão do Parlamento Europeu</td>\n",
              "    </tr>\n",
              "    <tr>\n",
              "      <th>2</th>\n",
              "      <td>Como puderam constatar</td>\n",
              "    </tr>\n",
              "    <tr>\n",
              "      <th>3</th>\n",
              "      <td>Os senhores manifestaram o desejo de se proced...</td>\n",
              "    </tr>\n",
              "    <tr>\n",
              "      <th>4</th>\n",
              "      <td>Entretanto</td>\n",
              "    </tr>\n",
              "  </tbody>\n",
              "</table>\n",
              "</div>"
            ],
            "text/plain": [
              "                                          Portuguese\n",
              "0                                 Reinício da sessão\n",
              "1    Declaro reaberta a sessão do Parlamento Europeu\n",
              "2                             Como puderam constatar\n",
              "3  Os senhores manifestaram o desejo de se proced...\n",
              "4                                         Entretanto"
            ]
          },
          "metadata": {},
          "execution_count": 29
        }
      ]
    },
    {
      "cell_type": "code",
      "metadata": {
        "id": "xh_gk_Uo2dPK"
      },
      "source": [
        "portuguese_data=portuguese_data[0:10000]"
      ],
      "execution_count": null,
      "outputs": []
    },
    {
      "cell_type": "code",
      "metadata": {
        "scrolled": true,
        "colab": {
          "base_uri": "https://localhost:8080/",
          "height": 206
        },
        "id": "K6AiB-Ns2dPK",
        "outputId": "20959c6c-78bd-412a-dfcb-058afbe171e7"
      },
      "source": [
        "romanian_df = pd.read_csv('/content/drive/MyDrive/zip/europarl-v7.ro-en.ro', header=None, names=['Romanian'])\n",
        "romanian_df.head()"
      ],
      "execution_count": null,
      "outputs": [
        {
          "output_type": "execute_result",
          "data": {
            "text/html": [
              "<div>\n",
              "<style scoped>\n",
              "    .dataframe tbody tr th:only-of-type {\n",
              "        vertical-align: middle;\n",
              "    }\n",
              "\n",
              "    .dataframe tbody tr th {\n",
              "        vertical-align: top;\n",
              "    }\n",
              "\n",
              "    .dataframe thead th {\n",
              "        text-align: right;\n",
              "    }\n",
              "</style>\n",
              "<table border=\"1\" class=\"dataframe\">\n",
              "  <thead>\n",
              "    <tr style=\"text-align: right;\">\n",
              "      <th></th>\n",
              "      <th>Romanian</th>\n",
              "    </tr>\n",
              "  </thead>\n",
              "  <tbody>\n",
              "    <tr>\n",
              "      <th>0</th>\n",
              "      <td>Componenţa Parlamentului: a se vedea procesul-...</td>\n",
              "    </tr>\n",
              "    <tr>\n",
              "      <th>1</th>\n",
              "      <td>Aprobarea procesului-verbal al şedinţei preced...</td>\n",
              "    </tr>\n",
              "    <tr>\n",
              "      <th>2</th>\n",
              "      <td>Componenţa Parlamentului: a se vedea procesul-...</td>\n",
              "    </tr>\n",
              "    <tr>\n",
              "      <th>3</th>\n",
              "      <td>Verificarea prerogativelor: a se vedea procesu...</td>\n",
              "    </tr>\n",
              "    <tr>\n",
              "      <th>4</th>\n",
              "      <td>Depunere de documente: a se vedea procesul-verbal</td>\n",
              "    </tr>\n",
              "  </tbody>\n",
              "</table>\n",
              "</div>"
            ],
            "text/plain": [
              "                                            Romanian\n",
              "0  Componenţa Parlamentului: a se vedea procesul-...\n",
              "1  Aprobarea procesului-verbal al şedinţei preced...\n",
              "2  Componenţa Parlamentului: a se vedea procesul-...\n",
              "3  Verificarea prerogativelor: a se vedea procesu...\n",
              "4  Depunere de documente: a se vedea procesul-verbal"
            ]
          },
          "metadata": {},
          "execution_count": 31
        }
      ]
    },
    {
      "cell_type": "code",
      "metadata": {
        "id": "6xDgebTg2dPL"
      },
      "source": [
        "romanian_df=romanian_df[0:10000]"
      ],
      "execution_count": null,
      "outputs": []
    },
    {
      "cell_type": "code",
      "metadata": {
        "scrolled": true,
        "colab": {
          "base_uri": "https://localhost:8080/",
          "height": 206
        },
        "id": "ZO5s9CXg2dPL",
        "outputId": "789d3a48-4b75-42f1-9093-e648e9ec52a2"
      },
      "source": [
        "slovenian_df = pd.read_csv('/content/drive/MyDrive/zip/europarl-v7.sl-en.sl', header=None, names=['Slovenian'])\n",
        "slovenian_df.head()"
      ],
      "execution_count": null,
      "outputs": [
        {
          "output_type": "execute_result",
          "data": {
            "text/html": [
              "<div>\n",
              "<style scoped>\n",
              "    .dataframe tbody tr th:only-of-type {\n",
              "        vertical-align: middle;\n",
              "    }\n",
              "\n",
              "    .dataframe tbody tr th {\n",
              "        vertical-align: top;\n",
              "    }\n",
              "\n",
              "    .dataframe thead th {\n",
              "        text-align: right;\n",
              "    }\n",
              "</style>\n",
              "<table border=\"1\" class=\"dataframe\">\n",
              "  <thead>\n",
              "    <tr style=\"text-align: right;\">\n",
              "      <th></th>\n",
              "      <th>Slovenian</th>\n",
              "    </tr>\n",
              "  </thead>\n",
              "  <tbody>\n",
              "    <tr>\n",
              "      <th>0</th>\n",
              "      <td>Nadaljnje obravnavanje resolucij Parlamenta: g...</td>\n",
              "    </tr>\n",
              "    <tr>\n",
              "      <th>1</th>\n",
              "      <td>Predložitev dokumentov: glej zapisnik</td>\n",
              "    </tr>\n",
              "    <tr>\n",
              "      <th>2</th>\n",
              "      <td>Pisne izjave (člen 116): glej zapisnik</td>\n",
              "    </tr>\n",
              "    <tr>\n",
              "      <th>3</th>\n",
              "      <td>Posredovanje besedil sporazumov s strani Sveta...</td>\n",
              "    </tr>\n",
              "    <tr>\n",
              "      <th>4</th>\n",
              "      <td>Sestava Parlamenta: glej zapisnik</td>\n",
              "    </tr>\n",
              "  </tbody>\n",
              "</table>\n",
              "</div>"
            ],
            "text/plain": [
              "                                           Slovenian\n",
              "0  Nadaljnje obravnavanje resolucij Parlamenta: g...\n",
              "1              Predložitev dokumentov: glej zapisnik\n",
              "2             Pisne izjave (člen 116): glej zapisnik\n",
              "3  Posredovanje besedil sporazumov s strani Sveta...\n",
              "4                  Sestava Parlamenta: glej zapisnik"
            ]
          },
          "metadata": {},
          "execution_count": 33
        }
      ]
    },
    {
      "cell_type": "code",
      "metadata": {
        "id": "ubd-g5XU2dPL"
      },
      "source": [
        "slovenian_df=slovenian_df[0:10000]"
      ],
      "execution_count": null,
      "outputs": []
    },
    {
      "cell_type": "code",
      "metadata": {
        "scrolled": true,
        "colab": {
          "base_uri": "https://localhost:8080/",
          "height": 206
        },
        "id": "Msgk3Ok62dPM",
        "outputId": "32d20dda-960a-406d-bba3-57f9553ff94b"
      },
      "source": [
        "swedish_df = pd.read_csv('/content/drive/MyDrive/zip/europarl-v7.sv-en.sv', header=None, names=['Swedish'])\n",
        "swedish_df.head()"
      ],
      "execution_count": null,
      "outputs": [
        {
          "output_type": "execute_result",
          "data": {
            "text/html": [
              "<div>\n",
              "<style scoped>\n",
              "    .dataframe tbody tr th:only-of-type {\n",
              "        vertical-align: middle;\n",
              "    }\n",
              "\n",
              "    .dataframe tbody tr th {\n",
              "        vertical-align: top;\n",
              "    }\n",
              "\n",
              "    .dataframe thead th {\n",
              "        text-align: right;\n",
              "    }\n",
              "</style>\n",
              "<table border=\"1\" class=\"dataframe\">\n",
              "  <thead>\n",
              "    <tr style=\"text-align: right;\">\n",
              "      <th></th>\n",
              "      <th>Swedish</th>\n",
              "    </tr>\n",
              "  </thead>\n",
              "  <tbody>\n",
              "    <tr>\n",
              "      <th>0</th>\n",
              "      <td>Återupptagande av sessionen</td>\n",
              "    </tr>\n",
              "    <tr>\n",
              "      <th>1</th>\n",
              "      <td>Jag förklarar Europaparlamentets session återu...</td>\n",
              "    </tr>\n",
              "    <tr>\n",
              "      <th>2</th>\n",
              "      <td>Som ni kunnat konstatera ägde \"den stora år 20...</td>\n",
              "    </tr>\n",
              "    <tr>\n",
              "      <th>3</th>\n",
              "      <td>Ni har begärt en debatt i ämnet under sammantr...</td>\n",
              "    </tr>\n",
              "    <tr>\n",
              "      <th>4</th>\n",
              "      <td>Till dess vill jag att vi</td>\n",
              "    </tr>\n",
              "  </tbody>\n",
              "</table>\n",
              "</div>"
            ],
            "text/plain": [
              "                                             Swedish\n",
              "0                        Återupptagande av sessionen\n",
              "1  Jag förklarar Europaparlamentets session återu...\n",
              "2  Som ni kunnat konstatera ägde \"den stora år 20...\n",
              "3  Ni har begärt en debatt i ämnet under sammantr...\n",
              "4                          Till dess vill jag att vi"
            ]
          },
          "metadata": {},
          "execution_count": 35
        }
      ]
    },
    {
      "cell_type": "code",
      "metadata": {
        "id": "Za92N77p2dPM"
      },
      "source": [
        "swedish_df=swedish_df[0:10000]"
      ],
      "execution_count": null,
      "outputs": []
    },
    {
      "cell_type": "markdown",
      "metadata": {
        "id": "_uVVMoC1MCih"
      },
      "source": [
        "# PRE PROCESSING"
      ]
    },
    {
      "cell_type": "code",
      "metadata": {
        "scrolled": true,
        "id": "7qjv4nYo2dPN",
        "colab": {
          "base_uri": "https://localhost:8080/"
        },
        "outputId": "9a700dd5-783f-4c2d-eb70-62ceae9d42aa"
      },
      "source": [
        "for char in string.punctuation:\n",
        "    print(char, end = ' ')\n",
        "translate_table = dict((ord(char), None) for char in string.punctuation)"
      ],
      "execution_count": null,
      "outputs": [
        {
          "output_type": "stream",
          "name": "stdout",
          "text": [
            "! \" # $ % & ' ( ) * + , - . / : ; < = > ? @ [ \\ ] ^ _ ` { | } ~ "
          ]
        }
      ]
    },
    {
      "cell_type": "code",
      "metadata": {
        "id": "8eL0c0v02dPN"
      },
      "source": [
        "# Cleaning the data for english dataset\n",
        "\n",
        "data_eng = []\n",
        "lang_eng = []\n",
        "\n",
        "for i, line in english_df.iterrows():\n",
        "    line = line['English']\n",
        "    line=str(line)\n",
        "    #print(len(line))\n",
        "    if len(line) !=0:\n",
        "        line = line.lower()\n",
        "        line = re.sub(r\"\\d+\", \"\", line)\n",
        "        line = line.translate(translate_table)\n",
        "        data_eng.append(line)\n",
        "        lang_eng.append(\"English\")"
      ],
      "execution_count": null,
      "outputs": []
    },
    {
      "cell_type": "code",
      "metadata": {
        "id": "O__h42Fq2dPO"
      },
      "source": [
        "# Cleaning the data for german dataset\n",
        "\n",
        "data_ger = []\n",
        "lang_ger = []\n",
        "\n",
        "for i, line in german_df.iterrows():\n",
        "    line = line['German']\n",
        "    line=str(line)\n",
        "    if len(line) !=0:\n",
        "        line = line.lower()\n",
        "        line = re.sub(r\"\\d+\", \"\", line)\n",
        "        line = line.translate(translate_table)\n",
        "        data_ger.append(line)\n",
        "        lang_ger.append(\"German\")"
      ],
      "execution_count": null,
      "outputs": []
    },
    {
      "cell_type": "code",
      "metadata": {
        "id": "o0U8ZDhe2dPO"
      },
      "source": [
        "# Cleaning the data for french dataset\n",
        "\n",
        "data_fre = []\n",
        "lang_fre = []\n",
        "\n",
        "for i, line in french_df.iterrows():\n",
        "    line = line['French']\n",
        "    line=str(line)\n",
        "    if len(line) !=0:\n",
        "        line = line.lower()\n",
        "        line = re.sub(r\"\\d+\", \"\", line)\n",
        "        line = line.translate(translate_table)\n",
        "        data_fre.append(line)\n",
        "        lang_fre.append(\"French\")"
      ],
      "execution_count": null,
      "outputs": []
    },
    {
      "cell_type": "code",
      "metadata": {
        "id": "Ljri9Oce2dPO"
      },
      "source": [
        "# Cleaning the data for spanish dataset\n",
        "\n",
        "data_esp = []\n",
        "lang_esp = []\n",
        "\n",
        "for i, line in spanish_df.iterrows():\n",
        "    line = line['Spanish']\n",
        "    line=str(line)\n",
        "    if len(line) !=0:\n",
        "        line = line.lower()\n",
        "        line = re.sub(r\"\\d+\", \"\", line)\n",
        "        line = line.translate(translate_table)\n",
        "        data_esp.append(line)\n",
        "        lang_esp.append(\"Spanish\")"
      ],
      "execution_count": null,
      "outputs": []
    },
    {
      "cell_type": "code",
      "metadata": {
        "id": "x_OPA4oh2dPP"
      },
      "source": [
        "# Cleaning the data for Bulgarian dataset\n",
        "\n",
        "data_bul = []\n",
        "lang_bul = []\n",
        "\n",
        "for i, line in bulgarian_df.iterrows():\n",
        "    line = line['Bulgarian']\n",
        "    line=str(line)\n",
        "    if len(line) !=0:\n",
        "        line = line.lower()\n",
        "        line = re.sub(r\"\\d+\", \"\", line)\n",
        "        line = line.translate(translate_table)\n",
        "        data_esp.append(line)\n",
        "        lang_esp.append(\"Bulgarian\")"
      ],
      "execution_count": null,
      "outputs": []
    },
    {
      "cell_type": "code",
      "metadata": {
        "id": "UV3Zxdu02dPP"
      },
      "source": [
        "# Cleaning the data for Czech dataset\n",
        "\n",
        "data_czech = []\n",
        "lang_czech = []\n",
        "\n",
        "for i, line in czech_df.iterrows():\n",
        "    line = line['Czech']\n",
        "    line=str(line)\n",
        "    if len(line) !=0:\n",
        "        line = line.lower()\n",
        "        line = re.sub(r\"\\d+\", \"\", line)\n",
        "        line = line.translate(translate_table)\n",
        "        data_esp.append(line)\n",
        "        lang_esp.append(\"Czech\")"
      ],
      "execution_count": null,
      "outputs": []
    },
    {
      "cell_type": "code",
      "metadata": {
        "id": "PijgMy092dPP"
      },
      "source": [
        "# Cleaning the data for Danish dataset\n",
        "\n",
        "data_dan = []\n",
        "lang_dan = []\n",
        "\n",
        "for i, line in danish_df.iterrows():\n",
        "    line = line['Danish']\n",
        "    line=str(line)\n",
        "    if len(line) !=0:\n",
        "        line = line.lower()\n",
        "        line = re.sub(r\"\\d+\", \"\", line)\n",
        "        line = line.translate(translate_table)\n",
        "        data_esp.append(line)\n",
        "        lang_esp.append(\"Danish\")"
      ],
      "execution_count": null,
      "outputs": []
    },
    {
      "cell_type": "code",
      "metadata": {
        "id": "BGRQ22cx2dPQ"
      },
      "source": [
        "# Cleaning the data for finnish dataset\n",
        "\n",
        "data_fin = []\n",
        "lang_fin = []\n",
        "\n",
        "for i, line in finnish_df.iterrows():\n",
        "    line = line['Finnish']\n",
        "    line=str(line)\n",
        "    if len(line) !=0:\n",
        "        line = line.lower()\n",
        "        line = re.sub(r\"\\d+\", \"\", line)\n",
        "        line = line.translate(translate_table)\n",
        "        data_esp.append(line)\n",
        "        lang_esp.append(\"Finnish\")"
      ],
      "execution_count": null,
      "outputs": []
    },
    {
      "cell_type": "code",
      "metadata": {
        "id": "C9KlzdL92dPQ"
      },
      "source": [
        "\n",
        "# Cleaning the data for Hugarian dataset\n",
        "\n",
        "data_hung = []\n",
        "lang_hung = []\n",
        "\n",
        "for i, line in hungarian_df.iterrows():\n",
        "    line = line['Hungarian']\n",
        "    line=str(line)\n",
        "    if len(line) !=0:\n",
        "        line = line.lower()\n",
        "        line = re.sub(r\"\\d+\", \"\", line)\n",
        "        line = line.translate(translate_table)\n",
        "        data_esp.append(line)\n",
        "        lang_esp.append(\"Hungarian\")"
      ],
      "execution_count": null,
      "outputs": []
    },
    {
      "cell_type": "code",
      "metadata": {
        "id": "mWn-nFOm2dPQ"
      },
      "source": [
        "# Cleaning the data for Latvian dataset\n",
        "\n",
        "data_lat = []\n",
        "lang_lat = []\n",
        "\n",
        "for i, line in latvian_df.iterrows():\n",
        "    line = line['Latvian']\n",
        "    line=str(line)\n",
        "    if len(line) !=0:\n",
        "        line = line.lower()\n",
        "        line = re.sub(r\"\\d+\", \"\", line)\n",
        "        line = line.translate(translate_table)\n",
        "        data_esp.append(line)\n",
        "        lang_esp.append(\"Latvian\")"
      ],
      "execution_count": null,
      "outputs": []
    },
    {
      "cell_type": "code",
      "metadata": {
        "id": "dpVs6jg02dPQ"
      },
      "source": [
        "\n",
        "# Cleaning the data for Polish dataset\n",
        "\n",
        "data_pol = []\n",
        "lang_pol = []\n",
        "\n",
        "for i, line in polish_df.iterrows():\n",
        "    line = line['Polish']\n",
        "    line = str(line)\n",
        "    if len(line) !=0:\n",
        "        line = line.lower()\n",
        "        line = re.sub(r\"\\d+\", \"\", line)\n",
        "        line = line.translate(translate_table)\n",
        "        data_esp.append(line)\n",
        "        lang_esp.append(\"Polish\")"
      ],
      "execution_count": null,
      "outputs": []
    },
    {
      "cell_type": "code",
      "metadata": {
        "id": "jlI7PK5S2dPR"
      },
      "source": [
        "# Cleaning the data for Portuguese dataset\n",
        "\n",
        "data_port = []\n",
        "lang_port = []\n",
        "\n",
        "for i, line in portuguese_data.iterrows():\n",
        "    line = line['Portuguese']\n",
        "    line = str(line)\n",
        "    if len(line) !=0:\n",
        "        line = line.lower()\n",
        "        line = re.sub(r\"\\d+\", \"\", line)\n",
        "        line = line.translate(translate_table)\n",
        "        data_esp.append(line)\n",
        "        lang_esp.append(\"Portuguese\")"
      ],
      "execution_count": null,
      "outputs": []
    },
    {
      "cell_type": "code",
      "metadata": {
        "id": "HywY-n9j2dPR"
      },
      "source": [
        "\n",
        "# Cleaning the data for Romanian dataset\n",
        "\n",
        "data_rom = []\n",
        "lang_rom = []\n",
        "\n",
        "for i, line in romanian_df.iterrows():\n",
        "    line = line['Romanian']\n",
        "    line=str(line)\n",
        "    if len(line) !=0:\n",
        "        line = line.lower()\n",
        "        line = re.sub(r\"\\d+\", \"\", line)\n",
        "        line = line.translate(translate_table)\n",
        "        data_esp.append(line)\n",
        "        lang_esp.append(\"Romanian\")"
      ],
      "execution_count": null,
      "outputs": []
    },
    {
      "cell_type": "code",
      "metadata": {
        "id": "4LCmnFQ-2dPR"
      },
      "source": [
        "# Cleaning the data for Romanian dataset\n",
        "\n",
        "data_slo = []\n",
        "lang_slo = []\n",
        "\n",
        "for i, line in slovenian_df.iterrows():\n",
        "    line = line['Slovenian']\n",
        "    line=str(line)\n",
        "    if len(line) !=0:\n",
        "        line = line.lower()\n",
        "        line = re.sub(r\"\\d+\", \"\", line)\n",
        "        line = line.translate(translate_table)\n",
        "        data_esp.append(line)\n",
        "        lang_esp.append(\"Slovenian\")"
      ],
      "execution_count": null,
      "outputs": []
    },
    {
      "cell_type": "code",
      "metadata": {
        "id": "9uzLFiNT2dPS"
      },
      "source": [
        "# Cleaning the data for Dutch dataset\n",
        "\n",
        "data_dutch = []\n",
        "lang_dutch = []\n",
        "\n",
        "for i, line in dutch_df.iterrows():\n",
        "    line = line['Dutch']\n",
        "    line=str(line)\n",
        "    if len(line) !=0:\n",
        "        line = line.lower()\n",
        "        line = re.sub(r\"\\d+\", \"\", line)\n",
        "        line = line.translate(translate_table)\n",
        "        data_esp.append(line)\n",
        "        lang_esp.append(\"Dutch\")"
      ],
      "execution_count": null,
      "outputs": []
    },
    {
      "cell_type": "markdown",
      "metadata": {
        "id": "JW_ymQs-L89Y"
      },
      "source": [
        "# DATA FRAME"
      ]
    },
    {
      "cell_type": "code",
      "metadata": {
        "id": "wnmXK00K2dPS",
        "colab": {
          "base_uri": "https://localhost:8080/"
        },
        "outputId": "c6f67fa6-159d-4947-b1cc-de20f5982a86"
      },
      "source": [
        "df = pd.DataFrame({\n",
        "    \"Text\" : data_eng+data_ger+data_fre+data_esp+data_bul+data_czech+data_dan+data_fin+data_hung+data_lat+data_dutch+data_port+data_pol+data_rom+data_slo,\n",
        "    \"Language\" : lang_eng+lang_ger+lang_fre+lang_esp+lang_bul+lang_czech+lang_dan+lang_fin+lang_hung+lang_lat+lang_dutch+lang_port+lang_pol+lang_rom+lang_slo\n",
        "})\n",
        "\n",
        "print(df.shape)"
      ],
      "execution_count": null,
      "outputs": [
        {
          "output_type": "stream",
          "name": "stdout",
          "text": [
            "(150000, 2)\n"
          ]
        }
      ]
    },
    {
      "cell_type": "code",
      "metadata": {
        "id": "L_x2k-va2dPS",
        "colab": {
          "base_uri": "https://localhost:8080/",
          "height": 206
        },
        "outputId": "288a4236-4a4d-43a1-be88-43e0708dbe96"
      },
      "source": [
        "df.head()"
      ],
      "execution_count": null,
      "outputs": [
        {
          "output_type": "execute_result",
          "data": {
            "text/html": [
              "<div>\n",
              "<style scoped>\n",
              "    .dataframe tbody tr th:only-of-type {\n",
              "        vertical-align: middle;\n",
              "    }\n",
              "\n",
              "    .dataframe tbody tr th {\n",
              "        vertical-align: top;\n",
              "    }\n",
              "\n",
              "    .dataframe thead th {\n",
              "        text-align: right;\n",
              "    }\n",
              "</style>\n",
              "<table border=\"1\" class=\"dataframe\">\n",
              "  <thead>\n",
              "    <tr style=\"text-align: right;\">\n",
              "      <th></th>\n",
              "      <th>Text</th>\n",
              "      <th>Language</th>\n",
              "    </tr>\n",
              "  </thead>\n",
              "  <tbody>\n",
              "    <tr>\n",
              "      <th>0</th>\n",
              "      <td>membership of parliament see minutes</td>\n",
              "      <td>English</td>\n",
              "    </tr>\n",
              "    <tr>\n",
              "      <th>1</th>\n",
              "      <td>approval of minutes of previous sitting see mi...</td>\n",
              "      <td>English</td>\n",
              "    </tr>\n",
              "    <tr>\n",
              "      <th>2</th>\n",
              "      <td>membership of parliament see minutes</td>\n",
              "      <td>English</td>\n",
              "    </tr>\n",
              "    <tr>\n",
              "      <th>3</th>\n",
              "      <td>verification of credentials see minutes</td>\n",
              "      <td>English</td>\n",
              "    </tr>\n",
              "    <tr>\n",
              "      <th>4</th>\n",
              "      <td>documents received see minutes</td>\n",
              "      <td>English</td>\n",
              "    </tr>\n",
              "  </tbody>\n",
              "</table>\n",
              "</div>"
            ],
            "text/plain": [
              "                                                Text Language\n",
              "0               membership of parliament see minutes  English\n",
              "1  approval of minutes of previous sitting see mi...  English\n",
              "2               membership of parliament see minutes  English\n",
              "3            verification of credentials see minutes  English\n",
              "4                     documents received see minutes  English"
            ]
          },
          "metadata": {},
          "execution_count": 54
        }
      ]
    },
    {
      "cell_type": "code",
      "metadata": {
        "id": "Bz2QaF-Z2dPS",
        "colab": {
          "base_uri": "https://localhost:8080/",
          "height": 206
        },
        "outputId": "eaf9eb20-17b4-447c-c54d-ade8a7fe914b"
      },
      "source": [
        "df.tail()"
      ],
      "execution_count": null,
      "outputs": [
        {
          "output_type": "execute_result",
          "data": {
            "text/html": [
              "<div>\n",
              "<style scoped>\n",
              "    .dataframe tbody tr th:only-of-type {\n",
              "        vertical-align: middle;\n",
              "    }\n",
              "\n",
              "    .dataframe tbody tr th {\n",
              "        vertical-align: top;\n",
              "    }\n",
              "\n",
              "    .dataframe thead th {\n",
              "        text-align: right;\n",
              "    }\n",
              "</style>\n",
              "<table border=\"1\" class=\"dataframe\">\n",
              "  <thead>\n",
              "    <tr style=\"text-align: right;\">\n",
              "      <th></th>\n",
              "      <th>Text</th>\n",
              "      <th>Language</th>\n",
              "    </tr>\n",
              "  </thead>\n",
              "  <tbody>\n",
              "    <tr>\n",
              "      <th>149995</th>\n",
              "      <td>mijn vraag</td>\n",
              "      <td>Dutch</td>\n",
              "    </tr>\n",
              "    <tr>\n",
              "      <th>149996</th>\n",
              "      <td>denkt u nu werkelijk dat het parlement  nu wij...</td>\n",
              "      <td>Dutch</td>\n",
              "    </tr>\n",
              "    <tr>\n",
              "      <th>149997</th>\n",
              "      <td>commissaris byrne</td>\n",
              "      <td>Dutch</td>\n",
              "    </tr>\n",
              "    <tr>\n",
              "      <th>149998</th>\n",
              "      <td>wij hebben twee jaar onderhandeld over het wet...</td>\n",
              "      <td>Dutch</td>\n",
              "    </tr>\n",
              "    <tr>\n",
              "      <th>149999</th>\n",
              "      <td>ik kijk uit naar onze gemeenschappelijke gespr...</td>\n",
              "      <td>Dutch</td>\n",
              "    </tr>\n",
              "  </tbody>\n",
              "</table>\n",
              "</div>"
            ],
            "text/plain": [
              "                                                     Text Language\n",
              "149995                                         mijn vraag    Dutch\n",
              "149996  denkt u nu werkelijk dat het parlement  nu wij...    Dutch\n",
              "149997                                  commissaris byrne    Dutch\n",
              "149998  wij hebben twee jaar onderhandeld over het wet...    Dutch\n",
              "149999  ik kijk uit naar onze gemeenschappelijke gespr...    Dutch"
            ]
          },
          "metadata": {},
          "execution_count": 55
        }
      ]
    },
    {
      "cell_type": "code",
      "metadata": {
        "id": "oK7XZUJt2dPT",
        "colab": {
          "base_uri": "https://localhost:8080/"
        },
        "outputId": "7c4356e4-7365-4f18-909b-f2293ef8a614"
      },
      "source": [
        "df['Language'].value_counts()"
      ],
      "execution_count": null,
      "outputs": [
        {
          "output_type": "execute_result",
          "data": {
            "text/plain": [
              "Slovenian     10000\n",
              "Bulgarian     10000\n",
              "Polish        10000\n",
              "Portuguese    10000\n",
              "Hungarian     10000\n",
              "Latvian       10000\n",
              "Dutch         10000\n",
              "Czech         10000\n",
              "Danish        10000\n",
              "German        10000\n",
              "English       10000\n",
              "French        10000\n",
              "Spanish       10000\n",
              "Finnish       10000\n",
              "Romanian      10000\n",
              "Name: Language, dtype: int64"
            ]
          },
          "metadata": {},
          "execution_count": 56
        }
      ]
    },
    {
      "cell_type": "code",
      "metadata": {
        "id": "WqJzoIpb2dPT",
        "colab": {
          "base_uri": "https://localhost:8080/",
          "height": 1000
        },
        "outputId": "69eccac9-c5de-418e-f69e-91a6559938b8"
      },
      "source": [
        "plt.figure(figsize=(20,20))\n",
        "sns.countplot(x = df['Language'], data=df)"
      ],
      "execution_count": null,
      "outputs": [
        {
          "output_type": "execute_result",
          "data": {
            "text/plain": [
              "<matplotlib.axes._subplots.AxesSubplot at 0x7fa6ac49f050>"
            ]
          },
          "metadata": {},
          "execution_count": 57
        },
        {
          "output_type": "display_data",
          "data": {
            "image/png": "[encoded data removed]",
            "text/plain": [
              "<Figure size 1440x1440 with 1 Axes>"
            ]
          },
          "metadata": {
            "needs_background": "light"
          }
        }
      ]
    },
    {
      "cell_type": "code",
      "metadata": {
        "id": "G_VTXwrl2dPT"
      },
      "source": [
        "x = df.iloc[:,0] # Independent Variable\n",
        "y = df.iloc[:,1] # Dependent Variable"
      ],
      "execution_count": null,
      "outputs": []
    },
    {
      "cell_type": "code",
      "metadata": {
        "id": "UGAZ2KNtgxnL",
        "colab": {
          "base_uri": "https://localhost:8080/"
        },
        "outputId": "bc42025e-8c99-4f7f-83ef-868ff430ddbd"
      },
      "source": [
        "y"
      ],
      "execution_count": null,
      "outputs": [
        {
          "output_type": "execute_result",
          "data": {
            "text/plain": [
              "0         English\n",
              "1         English\n",
              "2         English\n",
              "3         English\n",
              "4         English\n",
              "           ...   \n",
              "149995      Dutch\n",
              "149996      Dutch\n",
              "149997      Dutch\n",
              "149998      Dutch\n",
              "149999      Dutch\n",
              "Name: Language, Length: 150000, dtype: object"
            ]
          },
          "metadata": {},
          "execution_count": 59
        }
      ]
    },
    {
      "cell_type": "code",
      "metadata": {
        "id": "nLQlsi5m2dPT",
        "colab": {
          "base_uri": "https://localhost:8080/"
        },
        "outputId": "fc8b38c5-7902-41be-8b5d-a94725654c8f"
      },
      "source": [
        "x.iloc[1:5]"
      ],
      "execution_count": null,
      "outputs": [
        {
          "output_type": "execute_result",
          "data": {
            "text/plain": [
              "1    approval of minutes of previous sitting see mi...\n",
              "2                 membership of parliament see minutes\n",
              "3              verification of credentials see minutes\n",
              "4                       documents received see minutes\n",
              "Name: Text, dtype: object"
            ]
          },
          "metadata": {},
          "execution_count": 60
        }
      ]
    },
    {
      "cell_type": "code",
      "metadata": {
        "id": "XwBWsCju2dPU"
      },
      "source": [
        "from sklearn.model_selection import train_test_split\n",
        "\n",
        "x_train, x_test, y_train, y_test = train_test_split(x, y, test_size=0.2)"
      ],
      "execution_count": null,
      "outputs": []
    },
    {
      "cell_type": "code",
      "metadata": {
        "id": "eolpCSvR2dPU"
      },
      "source": [
        "vectorizer = feature_extraction.text.TfidfVectorizer(ngram_range=(1,3), analyzer='char')"
      ],
      "execution_count": null,
      "outputs": []
    },
    {
      "cell_type": "code",
      "metadata": {
        "id": "nAah1He22dPU"
      },
      "source": [
        ""
      ],
      "execution_count": null,
      "outputs": []
    },
    {
      "cell_type": "markdown",
      "metadata": {
        "id": "GA9nfZQ0LqMw"
      },
      "source": [
        "# NAIVE BAYES"
      ]
    },
    {
      "cell_type": "code",
      "metadata": {
        "id": "btYkq0Ws2dPU"
      },
      "source": [
        "pipe_mnb = pipeline.Pipeline([\n",
        "    ('vectorizer', vectorizer),\n",
        "    ('clf', MultinomialNB())\n",
        "])"
      ],
      "execution_count": null,
      "outputs": []
    },
    {
      "cell_type": "code",
      "metadata": {
        "colab": {
          "base_uri": "https://localhost:8080/"
        },
        "id": "N5i0Yp8a2dPV",
        "outputId": "24568834-afe4-4fb1-bb9d-da482f78e073"
      },
      "source": [
        "pipe_mnb.fit(x_train, y_train)"
      ],
      "execution_count": null,
      "outputs": [
        {
          "output_type": "execute_result",
          "data": {
            "text/plain": [
              "Pipeline(steps=[('vectorizer',\n",
              "                 TfidfVectorizer(analyzer='char', ngram_range=(1, 3))),\n",
              "                ('clf', MultinomialNB())])"
            ]
          },
          "metadata": {},
          "execution_count": 71
        }
      ]
    },
    {
      "cell_type": "code",
      "metadata": {
        "id": "mxVn669r2dPW"
      },
      "source": [
        "mnb_predicted = pipe_mnb.predict(x_test)"
      ],
      "execution_count": null,
      "outputs": []
    },
    {
      "cell_type": "code",
      "metadata": {
        "colab": {
          "base_uri": "https://localhost:8080/"
        },
        "id": "rvyZcEX22dPX",
        "outputId": "732a0276-5685-4857-f7cf-408a91f6c70c"
      },
      "source": [
        "mnb_acc = (metrics.accuracy_score(y_test, mnb_predicted))*100\n",
        "print('The MultinomialNB has :',mnb_acc,'% accuracy')"
      ],
      "execution_count": null,
      "outputs": [
        {
          "output_type": "stream",
          "name": "stdout",
          "text": [
            "The MultinomialNB has : 92.81333333333333 % accuracy\n"
          ]
        }
      ]
    },
    {
      "cell_type": "code",
      "metadata": {
        "colab": {
          "base_uri": "https://localhost:8080/"
        },
        "id": "OXjtwTVuKsiT",
        "outputId": "785b6a3a-650c-49cb-e604-b55e39a0db05"
      },
      "source": [
        "matrix = metrics.confusion_matrix(y_test, mnb_predicted)\n",
        "print('Confusion matrix: \\n', matrix)"
      ],
      "execution_count": null,
      "outputs": [
        {
          "output_type": "stream",
          "name": "stdout",
          "text": [
            "Confusion matrix: \n",
            " [[1757    1    2   17   45    1  191   25    1    0    5    2   14    2\n",
            "    14]\n",
            " [   2 1829    0    0   20    0   85    8    2    0   11    1   10   13\n",
            "     9]\n",
            " [   0    0 1920    7    4    1    4    9    1    1   10    1    3    8\n",
            "     4]\n",
            " [   0    0    3 1995    0    1    2    3    1    0    0    0    1    1\n",
            "     2]\n",
            " [   0    3    6   19 1709    4  208   11    4    0    4   35   10    5\n",
            "     6]\n",
            " [   0    0    1    1    2 1987    6    3    0    0    0    6    0    1\n",
            "     0]\n",
            " [   0    0    5    8    6    4 1913    3    0    1    0    6    3    3\n",
            "     6]\n",
            " [   0    0    4   11    2    0    9 1948    0    0    0    1    1    2\n",
            "     0]\n",
            " [   1    2    5    4   15    7   80    7 1864    0    6    4    7   11\n",
            "    15]\n",
            " [   0    2    2    4   11    3   98   12    0 1802    1    3    9    3\n",
            "    11]\n",
            " [   1    5    4    3   20    7  103    8    2    0 1791    4    5   14\n",
            "    12]\n",
            " [   0    0    0    4    3    3   12    2    6    1    0 1895    2    6\n",
            "    94]\n",
            " [   6    3    3   12   30    4  197   29    2    0    8    8 1667    3\n",
            "    24]\n",
            " [   1    3    2    3   12    2   91   14    0    0    4    3    7 1843\n",
            "     9]\n",
            " [   0    2    2    5    3    1    8    1    3    0    2   38    1    8\n",
            "  1924]]\n"
          ]
        }
      ]
    },
    {
      "cell_type": "code",
      "metadata": {
        "id": "fN-Exc9iyaAT"
      },
      "source": [
        ""
      ],
      "execution_count": null,
      "outputs": []
    },
    {
      "cell_type": "code",
      "metadata": {
        "id": "ENo2Ym_BhkG7"
      },
      "source": [
        "from sklearn.model_selection import KFold\n",
        "kf = KFold(n_splits=10,shuffle=True)"
      ],
      "execution_count": null,
      "outputs": []
    },
    {
      "cell_type": "code",
      "metadata": {
        "id": "fABR0cSoKQq5",
        "colab": {
          "base_uri": "https://localhost:8080/"
        },
        "outputId": "4e8f50cf-ac90-4269-c478-56179168d3aa"
      },
      "source": [
        "acc_score=0\n",
        "for train_index, test_index in kf.split(x):\n",
        "    pipe_mnb = pipeline.Pipeline([\n",
        "      ('vectorizer', vectorizer),\n",
        "      ('clf', MultinomialNB())\n",
        "    ])\n",
        "    X_train, X_test = x[train_index], x[test_index]\n",
        "    Y_train, Y_test = y[train_index], y[test_index]\n",
        "    pipe_mnb.fit(X_train, Y_train)\n",
        "    Y_pred=pipe_mnb.predict(X_test)\n",
        "    acc_score+=metrics.accuracy_score(Y_test,Y_pred) \n",
        "print(acc_score/10)"
      ],
      "execution_count": null,
      "outputs": [
        {
          "output_type": "stream",
          "name": "stdout",
          "text": [
            "0.9293733333333332\n"
          ]
        }
      ]
    },
    {
      "cell_type": "markdown",
      "metadata": {
        "id": "Tw3qCWD1LiwP"
      },
      "source": [
        "# LOGISTIC REGRESSION"
      ]
    },
    {
      "cell_type": "code",
      "metadata": {
        "id": "irTUUwJA2dPV"
      },
      "source": [
        "pipe_lr = pipeline.Pipeline([\n",
        "    ('vectorizer', vectorizer),\n",
        "    ('lr_clf', LogisticRegression())\n",
        "])"
      ],
      "execution_count": null,
      "outputs": []
    },
    {
      "cell_type": "code",
      "metadata": {
        "colab": {
          "base_uri": "https://localhost:8080/"
        },
        "id": "Ze_163jZ2dPV",
        "outputId": "d41bfa8d-5890-436a-dfe6-c1c7da754db6"
      },
      "source": [
        "pipe_lr.fit(x_train, y_train)"
      ],
      "execution_count": null,
      "outputs": [
        {
          "output_type": "execute_result",
          "data": {
            "text/plain": [
              "Pipeline(steps=[('vectorizer',\n",
              "                 TfidfVectorizer(analyzer='char', ngram_range=(1, 3))),\n",
              "                ('lr_clf', LogisticRegression())])"
            ]
          },
          "metadata": {},
          "execution_count": 77
        }
      ]
    },
    {
      "cell_type": "code",
      "metadata": {
        "id": "GWGpjz0T2dPV"
      },
      "source": [
        "lr_predicted = pipe_lr.predict(x_test)"
      ],
      "execution_count": null,
      "outputs": []
    },
    {
      "cell_type": "code",
      "metadata": {
        "colab": {
          "base_uri": "https://localhost:8080/"
        },
        "id": "oa3ZXR5H2dPW",
        "outputId": "c8b96df7-282f-4e04-90be-e6f5ecdf7d24"
      },
      "source": [
        "x_test"
      ],
      "execution_count": null,
      "outputs": [
        {
          "output_type": "execute_result",
          "data": {
            "text/plain": [
              "55556     v rámci pracovního programu vzdělávání a odbor...\n",
              "136673    poročilo o skupni ureditvi trga mleka in mlečn...\n",
              "46695     ако искате да разгледаме устойчивата политика ...\n",
              "108041                 bez wątpienia czwartą cechą sytuacji\n",
              "95995           par alkohola marķēšanu ir skaidri noteikumi\n",
              "                                ...                        \n",
              "89485                                                    az\n",
              "31093                            esto me parece inaceptable\n",
              "145874    het is echter belangrijk om te benadrukken dat...\n",
              "76538                                  lopuksi haluan sanoa\n",
              "1378                    agenda for next sitting see minutes\n",
              "Name: Text, Length: 30000, dtype: object"
            ]
          },
          "metadata": {},
          "execution_count": 79
        }
      ]
    },
    {
      "cell_type": "code",
      "metadata": {
        "colab": {
          "base_uri": "https://localhost:8080/"
        },
        "id": "g7kB5yOi2dPW",
        "outputId": "786b51a8-e7d7-42f4-f181-21d636233fcd"
      },
      "source": [
        "pipe_lr.predict(x_test.iloc[1:5])"
      ],
      "execution_count": null,
      "outputs": [
        {
          "output_type": "execute_result",
          "data": {
            "text/plain": [
              "array(['Slovenian', 'Bulgarian', 'Polish', 'Latvian'], dtype=object)"
            ]
          },
          "metadata": {},
          "execution_count": 80
        }
      ]
    },
    {
      "cell_type": "code",
      "metadata": {
        "colab": {
          "base_uri": "https://localhost:8080/"
        },
        "id": "dOirB3jv2dPW",
        "outputId": "417a89f4-aa12-4a96-ac47-9e9abae2ea01"
      },
      "source": [
        "x_test.iloc[1:5]"
      ],
      "execution_count": null,
      "outputs": [
        {
          "output_type": "execute_result",
          "data": {
            "text/plain": [
              "136673    poročilo o skupni ureditvi trga mleka in mlečn...\n",
              "46695     ако искате да разгледаме устойчивата политика ...\n",
              "108041                 bez wątpienia czwartą cechą sytuacji\n",
              "95995           par alkohola marķēšanu ir skaidri noteikumi\n",
              "Name: Text, dtype: object"
            ]
          },
          "metadata": {},
          "execution_count": 81
        }
      ]
    },
    {
      "cell_type": "code",
      "metadata": {
        "colab": {
          "base_uri": "https://localhost:8080/"
        },
        "id": "UWG9LCoJ2dPW",
        "outputId": "bf7477e0-1229-4a96-d643-19b8bb5f5d38"
      },
      "source": [
        "lr_acc = (metrics.accuracy_score(y_test, lr_predicted))*100\n",
        "print('The logistic regression has:',lr_acc,'% accuracy')"
      ],
      "execution_count": null,
      "outputs": [
        {
          "output_type": "stream",
          "name": "stdout",
          "text": [
            "The logistic regression has: 94.33666666666667 % accuracy\n"
          ]
        }
      ]
    },
    {
      "cell_type": "code",
      "metadata": {
        "scrolled": true,
        "id": "idlThJIl2dPZ",
        "colab": {
          "base_uri": "https://localhost:8080/"
        },
        "outputId": "b5ef5b92-c675-4ede-c018-37efe9adba10"
      },
      "source": [
        "matrix = metrics.confusion_matrix(y_test, lr_predicted)\n",
        "print('Confusion matrix: \\n', matrix)"
      ],
      "execution_count": null,
      "outputs": [
        {
          "output_type": "stream",
          "name": "stdout",
          "text": [
            "Confusion matrix: \n",
            " [[1951    2    0    0   37    1    6    8    2    2    2    2   50    4\n",
            "    10]\n",
            " [  98 1834    0    0   17    0    4    3    4    0    5    1   10   10\n",
            "     4]\n",
            " [   2    0 1933    1    7    1    2    2    3    1    3    3    6    6\n",
            "     3]\n",
            " [   0    0    3 1982    4    1    1    9    1    1    2    3    1    0\n",
            "     1]\n",
            " [ 191    2    3    0 1787    0    3    2    1    2    3    5   21    2\n",
            "     2]\n",
            " [   3    0    3    0    2 1991    0    3    0    0    3    1    0    0\n",
            "     1]\n",
            " [   3    2    0    1    7    0 1924    2    3    1    0    3    8    1\n",
            "     3]\n",
            " [   9    0    6    0    2    0    1 1951    1    0    1    1    5    1\n",
            "     0]\n",
            " [  87    3    4    0   13    1    3    1 1890    2    1    2   12    2\n",
            "     7]\n",
            " [  93    4    2    0    8    0    4    4    3 1813    0    4   18    1\n",
            "     7]\n",
            " [ 113    4    0    0   15    0    4    3    4    2 1807    2   14    4\n",
            "     7]\n",
            " [   0    1    0    0    0    2    4    1    5    2    1 1968    3    3\n",
            "    38]\n",
            " [ 222    2    2    1   30    0   14    5    2    1    1    6 1696    6\n",
            "     8]\n",
            " [  96    7    1    0   13    0    1    4    3    1    1    1   15 1846\n",
            "     5]\n",
            " [   7    1    2    0    4    0    4    1    2    2    0   40    6    1\n",
            "  1928]]\n"
          ]
        }
      ]
    },
    {
      "cell_type": "code",
      "metadata": {
        "id": "0h100U202dPX",
        "colab": {
          "base_uri": "https://localhost:8080/"
        },
        "outputId": "fd59b37e-6d31-4ab9-eb47-afa8e5cbbe06"
      },
      "source": [
        "acc_score=0\n",
        "for train_index, test_index in kf.split(x):\n",
        "    X_train, X_test = x[train_index], x[test_index]\n",
        "    Y_train, Y_test = y[train_index], y[test_index]\n",
        "    pipe_lr.fit(X_train, Y_train)\n",
        "    Y_pred=pipe_lr.predict(X_test)\n",
        "    acc_score+=metrics.accuracy_score(Y_test,Y_pred) \n",
        "print(acc_score/10)"
      ],
      "execution_count": null,
      "outputs": [
        {
          "output_type": "stream",
          "name": "stdout",
          "text": [
            "0.94224\n"
          ]
        }
      ]
    },
    {
      "cell_type": "markdown",
      "metadata": {
        "id": "pIOyQ3LkLXa5"
      },
      "source": [
        "# DEEP LEARNING"
      ]
    },
    {
      "cell_type": "code",
      "metadata": {
        "id": "uYrNjUHPWXTX"
      },
      "source": [
        "X = vectorizer.fit_transform(x)"
      ],
      "execution_count": null,
      "outputs": []
    },
    {
      "cell_type": "code",
      "metadata": {
        "id": "ZRxheq91BeKO"
      },
      "source": [
        "from sklearn.model_selection import train_test_split\n",
        "\n",
        "X_train, X_test, Y_train, Y_test = train_test_split(X, y, test_size=0.2, random_state=42)"
      ],
      "execution_count": null,
      "outputs": []
    },
    {
      "cell_type": "code",
      "metadata": {
        "id": "uO1nKUDvpjgg"
      },
      "source": [
        "import tensorflow as tf\n",
        "def convert_sparse_matrix_to_sparse_tensor(X):\n",
        "    coo = X.tocoo()\n",
        "    indices = np.mat([coo.row, coo.col]).transpose()\n",
        "    return tf.sparse.reorder(tf.SparseTensor(indices, coo.data, coo.shape))"
      ],
      "execution_count": null,
      "outputs": []
    },
    {
      "cell_type": "code",
      "metadata": {
        "id": "_HaqHN3e2uyR"
      },
      "source": [
        "X_train=convert_sparse_matrix_to_sparse_tensor(X_train)\n",
        "X_test=convert_sparse_matrix_to_sparse_tensor(X_test)"
      ],
      "execution_count": null,
      "outputs": []
    },
    {
      "cell_type": "code",
      "metadata": {
        "id": "5_h7dWFu7jQH"
      },
      "source": [
        "map={'Polish':0, 'English':1, 'Finnish':2, 'Slovenian':3, 'Hungarian':4, 'German':5,\n",
        "       'Latvian':6, 'Dutch':7, 'Bulgarian':8, 'French':9, 'Romanian':10, 'Spanish':11,\n",
        "       'Danish':12, 'Portuguese':13, 'Czech':14}\n",
        "Y=Y_train.replace(map)\n",
        "Y_test=Y_test.replace(map)"
      ],
      "execution_count": null,
      "outputs": []
    },
    {
      "cell_type": "code",
      "metadata": {
        "colab": {
          "base_uri": "https://localhost:8080/"
        },
        "id": "tg-S3EqtlN2K",
        "outputId": "d99f0a37-edba-4712-c2fd-0ea6addb710a"
      },
      "source": [
        "Y=pd.get_dummies(Y)\n",
        "Y=Y.to_numpy()\n",
        "Y.shape"
      ],
      "execution_count": null,
      "outputs": [
        {
          "output_type": "execute_result",
          "data": {
            "text/plain": [
              "(120000, 15)"
            ]
          },
          "metadata": {},
          "execution_count": 119
        }
      ]
    },
    {
      "cell_type": "code",
      "metadata": {
        "id": "6R2wY3X7esWT"
      },
      "source": [
        "from keras.models import Sequential\n",
        "from keras.layers import Dense\n",
        "\n",
        "#Get training data\n",
        "#x = train_feat.drop('lang',axis=1)\n",
        "#y = encode(train_feat['lang'])\n",
        "\n",
        "#Define model\n",
        "model = Sequential()\n",
        "model.add(Dense(500, input_dim= X_train.shape[1], activation='relu'))\n",
        "model.add(Dense(500, activation='relu'))\n",
        "model.add(Dense(250, activation='relu'))\n",
        "model.add(Dense(15, activation='softmax'))"
      ],
      "execution_count": null,
      "outputs": []
    },
    {
      "cell_type": "code",
      "metadata": {
        "id": "IDNcb-DXkxgp"
      },
      "source": [
        "model.compile(loss='categorical_crossentropy', optimizer='adam', metrics=['accuracy'])"
      ],
      "execution_count": null,
      "outputs": []
    },
    {
      "cell_type": "code",
      "metadata": {
        "colab": {
          "base_uri": "https://localhost:8080/"
        },
        "id": "fTYVfwiNma13",
        "outputId": "aca69588-9fec-45a0-8a2b-5ffee2e25a30"
      },
      "source": [
        "model.summary()"
      ],
      "execution_count": null,
      "outputs": [
        {
          "output_type": "stream",
          "name": "stdout",
          "text": [
            "Model: \"sequential\"\n",
            "_________________________________________________________________\n",
            " Layer (type)                Output Shape              Param #   \n",
            "=================================================================\n",
            " dense (Dense)               (None, 500)               18452000  \n",
            "                                                                 \n",
            " dense_1 (Dense)             (None, 500)               250500    \n",
            "                                                                 \n",
            " dense_2 (Dense)             (None, 250)               125250    \n",
            "                                                                 \n",
            " dense_3 (Dense)             (None, 15)                3765      \n",
            "                                                                 \n",
            "=================================================================\n",
            "Total params: 18,831,515\n",
            "Trainable params: 18,831,515\n",
            "Non-trainable params: 0\n",
            "_________________________________________________________________\n"
          ]
        }
      ]
    },
    {
      "cell_type": "code",
      "metadata": {
        "colab": {
          "base_uri": "https://localhost:8080/"
        },
        "id": "PHG0lq-3kuIv",
        "outputId": "86dd3389-f312-4389-eb79-4e4625f58e6c"
      },
      "source": [
        "#Train model\n",
        "model.fit(X_train, Y, epochs=4, batch_size=100)"
      ],
      "execution_count": null,
      "outputs": [
        {
          "output_type": "stream",
          "name": "stdout",
          "text": [
            "Epoch 1/4\n",
            "1200/1200 [==============================] - 33s 25ms/step - loss: 0.2259 - accuracy: 0.9309\n",
            "Epoch 2/4\n",
            "1200/1200 [==============================] - 30s 25ms/step - loss: 0.1340 - accuracy: 0.9495\n",
            "Epoch 3/4\n",
            "1200/1200 [==============================] - 30s 25ms/step - loss: 0.1245 - accuracy: 0.9518\n",
            "Epoch 4/4\n",
            "1200/1200 [==============================] - 30s 25ms/step - loss: 0.1212 - accuracy: 0.9528\n"
          ]
        },
        {
          "output_type": "execute_result",
          "data": {
            "text/plain": [
              "<keras.callbacks.History at 0x7fefc0595110>"
            ]
          },
          "metadata": {},
          "execution_count": 94
        }
      ]
    },
    {
      "cell_type": "code",
      "metadata": {
        "id": "Oh8EmUAzEWDX"
      },
      "source": [
        "predict_x=model.predict(X_test) \n",
        "classes_x=np.argmax(predict_x,axis=1)"
      ],
      "execution_count": null,
      "outputs": []
    },
    {
      "cell_type": "code",
      "metadata": {
        "colab": {
          "base_uri": "https://localhost:8080/"
        },
        "id": "QxtI1b3LE9-c",
        "outputId": "5a1d6ea7-c89c-4632-d2b9-004f47546dce"
      },
      "source": [
        "classes_x"
      ],
      "execution_count": null,
      "outputs": [
        {
          "output_type": "execute_result",
          "data": {
            "text/plain": [
              "array([14,  9, 10, ...,  0, 14,  8])"
            ]
          },
          "metadata": {},
          "execution_count": 96
        }
      ]
    },
    {
      "cell_type": "code",
      "metadata": {
        "colab": {
          "base_uri": "https://localhost:8080/"
        },
        "id": "FZWeLuMNFQdr",
        "outputId": "d857e493-576b-4fbe-9cce-eb95c8a69a7d"
      },
      "source": [
        "Y_test"
      ],
      "execution_count": null,
      "outputs": [
        {
          "output_type": "execute_result",
          "data": {
            "text/plain": [
              "59770     14\n",
              "21362      9\n",
              "127324    10\n",
              "140509     7\n",
              "144297     7\n",
              "          ..\n",
              "30430     11\n",
              "63244     12\n",
              "104970     0\n",
              "53960     14\n",
              "49315      8\n",
              "Name: Language, Length: 30000, dtype: int64"
            ]
          },
          "metadata": {},
          "execution_count": 97
        }
      ]
    },
    {
      "cell_type": "code",
      "metadata": {
        "colab": {
          "base_uri": "https://localhost:8080/"
        },
        "id": "slte_xK-DPFV",
        "outputId": "f7e3873b-a0c2-4afd-b75f-c4c66a8e65ed"
      },
      "source": [
        "dl_acc = (metrics.accuracy_score(Y_test, classes_x))*100\n",
        "print('The Deep learning has:',dl_acc,'% accuracy')"
      ],
      "execution_count": null,
      "outputs": [
        {
          "output_type": "stream",
          "name": "stdout",
          "text": [
            "The Deep learning has: 94.13 % accuracy\n"
          ]
        }
      ]
    },
    {
      "cell_type": "code",
      "metadata": {
        "colab": {
          "base_uri": "https://localhost:8080/"
        },
        "id": "8sEV7rWOMx2b",
        "outputId": "6f69f8ea-e3ca-4a27-a3bb-66a29ee4f2b4"
      },
      "source": [
        "X_test"
      ],
      "execution_count": null,
      "outputs": [
        {
          "output_type": "execute_result",
          "data": {
            "text/plain": [
              "<tensorflow.python.framework.sparse_tensor.SparseTensor at 0x7fef4856b490>"
            ]
          },
          "metadata": {},
          "execution_count": 121
        }
      ]
    },
    {
      "cell_type": "code",
      "metadata": {
        "colab": {
          "base_uri": "https://localhost:8080/",
          "height": 35
        },
        "id": "2ccMBwvYLyms",
        "outputId": "03fa5421-7ea8-4a10-953f-737192c1ae9e"
      },
      "source": [
        "s=['non']\n",
        "s=vectorizer.transform(s)\n",
        "s=convert_sparse_matrix_to_sparse_tensor(s)\n",
        "predict=model.predict(s) \n",
        "inv_map = {v: k for k, v in map.items()}\n",
        "inv_map[np.argmax(predict,axis=1)[0]]"
      ],
      "execution_count": null,
      "outputs": [
        {
          "output_type": "execute_result",
          "data": {
            "application/vnd.google.colaboratory.intrinsic+json": {
              "type": "string"
            },
            "text/plain": [
              "'French'"
            ]
          },
          "metadata": {},
          "execution_count": 154
        }
      ]
    },
    {
      "cell_type": "markdown",
      "metadata": {
        "id": "69FGmj1heZPM"
      },
      "source": [
        "# DECISION TREE\n",
        "\n"
      ]
    },
    {
      "cell_type": "code",
      "metadata": {
        "id": "WFmzV2eo2dPX"
      },
      "source": [
        "from sklearn.tree import DecisionTreeClassifier \n",
        "\n",
        "pipe_Dc = pipeline.Pipeline([\n",
        "    ('vectorizer', vectorizer),\n",
        "    ('Dc_clf', DecisionTreeClassifier())\n",
        "])"
      ],
      "execution_count": null,
      "outputs": []
    },
    {
      "cell_type": "code",
      "metadata": {
        "colab": {
          "base_uri": "https://localhost:8080/"
        },
        "id": "IhIA3OCH2dPX",
        "outputId": "28b357b7-f3a5-491f-ffd0-796f06d9aff1"
      },
      "source": [
        "pipe_Dc.fit(x_train, y_train)"
      ],
      "execution_count": null,
      "outputs": [
        {
          "output_type": "execute_result",
          "data": {
            "text/plain": [
              "Pipeline(steps=[('vectorizer',\n",
              "                 TfidfVectorizer(analyzer='char', ngram_range=(1, 3))),\n",
              "                ('Dc_clf', DecisionTreeClassifier())])"
            ]
          },
          "metadata": {},
          "execution_count": 100
        }
      ]
    },
    {
      "cell_type": "code",
      "metadata": {
        "id": "7xk3s-GO2dPX"
      },
      "source": [
        "Dc_predicted = pipe_Dc.predict(x_test)"
      ],
      "execution_count": null,
      "outputs": []
    },
    {
      "cell_type": "code",
      "metadata": {
        "colab": {
          "base_uri": "https://localhost:8080/"
        },
        "id": "7koBZH4U2dPY",
        "outputId": "f9b96450-cd33-4570-a4e6-e6ec29ec90ba"
      },
      "source": [
        "Dc_acc = (metrics.accuracy_score(y_test, Dc_predicted))*100\n",
        "print('The DecisionTree Classifier has :',Dc_acc,'% accuracy')"
      ],
      "execution_count": null,
      "outputs": [
        {
          "output_type": "stream",
          "name": "stdout",
          "text": [
            "The DecisionTree Classifier has : 88.47333333333334 % accuracy\n"
          ]
        }
      ]
    },
    {
      "cell_type": "code",
      "metadata": {
        "id": "0gwwhXrAMVEO",
        "colab": {
          "base_uri": "https://localhost:8080/"
        },
        "outputId": "3612ed7f-2235-4feb-f737-0bb5828216f1"
      },
      "source": [
        "from sklearn.model_selection import KFold\n",
        "kf = KFold(n_splits=10,shuffle=True)\n",
        "acc_score=0\n",
        "for train_index, test_index in kf.split(x):\n",
        "    X_train, X_test = x[train_index], x[test_index]\n",
        "    Y_train, Y_test = y[train_index], y[test_index]\n",
        "    pipe_Dc.fit(X_train, Y_train)\n",
        "    Y_pred=pipe_Dc.predict(X_test)\n",
        "    acc_score+=metrics.accuracy_score(Y_test,Y_pred) \n",
        "print(acc_score/10)"
      ],
      "execution_count": null,
      "outputs": [
        {
          "output_type": "stream",
          "name": "stdout",
          "text": [
            "0.8846866666666667\n"
          ]
        }
      ]
    },
    {
      "cell_type": "code",
      "metadata": {
        "id": "H6x04TIxYCp4",
        "colab": {
          "base_uri": "https://localhost:8080/"
        },
        "outputId": "5e7cdb42-41b3-4ab2-fc6f-db4fe0a2cd7e"
      },
      "source": [
        "matrix = metrics.confusion_matrix(y_test, Dc_predicted)\n",
        "print('Confusion matrix: \\n', matrix)"
      ],
      "execution_count": null,
      "outputs": [
        {
          "output_type": "stream",
          "name": "stdout",
          "text": [
            "Confusion matrix: \n",
            " [[1956   37    0    0   24    0    1    0    1    1    3    1   52    0\n",
            "     1]\n",
            " [ 118 1704    3    3   18    3   13    1   36    3   17   23    6   33\n",
            "     9]\n",
            " [   4   10 1814   21   19   13   20   23   12    7    2    7    5    6\n",
            "    10]\n",
            " [   2    0   23 1830   24   11   13   58    6    8    9    2    5    7\n",
            "    11]\n",
            " [ 217    8   16    9 1619    6   33   20    2    4   17   18   30    9\n",
            "    16]\n",
            " [   5    2   12   13    5 1903   10   11    3   10    5    8    3   13\n",
            "     4]\n",
            " [   4   10   22    2   22   12 1807   10    6    3    5   16   13    3\n",
            "    23]\n",
            " [  11    3   30   37   18   13    9 1799    3    9   13    6    6   12\n",
            "     9]\n",
            " [ 105   46   15    9   11    8    9    5 1760    4   13    5    8   17\n",
            "    13]\n",
            " [ 113   18    4    1    6    7    3    4    9 1744   11    5   13   17\n",
            "     6]\n",
            " [ 136   22    2    3   20    1    5   11   13    8 1727    4    8   14\n",
            "     5]\n",
            " [   2   19    5    6    6    8   37    6    5    5    5 1785   12   16\n",
            "   111]\n",
            " [ 270   12    3    4   25    3   13    3    3    4    4   11 1628    5\n",
            "     8]\n",
            " [ 111   34   19    6   16   10    6    9   12   13    5   17   19 1708\n",
            "     9]\n",
            " [  12    9    7    8    9    6   29   10    6    6    3  113   15    7\n",
            "  1758]]\n"
          ]
        }
      ]
    },
    {
      "cell_type": "markdown",
      "metadata": {
        "id": "t6NxHFmNK-54"
      },
      "source": [
        "# KNN"
      ]
    },
    {
      "cell_type": "code",
      "metadata": {
        "colab": {
          "base_uri": "https://localhost:8080/"
        },
        "id": "CVLtPVRx2dPY",
        "outputId": "cda3ff3a-e999-4b9a-d032-8c0c521110dd"
      },
      "source": [
        "from sklearn.neighbors import KNeighborsClassifier\n",
        "\n",
        "#Create KNN Classifier\n",
        "pipe_knn = pipeline.Pipeline([\n",
        "    ('vectorizer', vectorizer),\n",
        "    ('knn_clf', KNeighborsClassifier(n_neighbors=5))\n",
        "])\n",
        "pipe_knn.fit(x_train, y_train)\n"
      ],
      "execution_count": null,
      "outputs": [
        {
          "output_type": "execute_result",
          "data": {
            "text/plain": [
              "Pipeline(steps=[('vectorizer',\n",
              "                 TfidfVectorizer(analyzer='char', ngram_range=(1, 3))),\n",
              "                ('knn_clf', KNeighborsClassifier())])"
            ]
          },
          "metadata": {},
          "execution_count": 104
        }
      ]
    },
    {
      "cell_type": "code",
      "metadata": {
        "id": "BVKYLLoi2dPY"
      },
      "source": [
        "knn_predicted = pipe_knn.predict(x_test)"
      ],
      "execution_count": null,
      "outputs": []
    },
    {
      "cell_type": "code",
      "metadata": {
        "colab": {
          "base_uri": "https://localhost:8080/"
        },
        "id": "vlfse14D2dPY",
        "outputId": "da1ff9db-b645-45dd-d3aa-da7384abad9d"
      },
      "source": [
        "knn_acc = (metrics.accuracy_score(y_test, knn_predicted))*100\n",
        "print('The KNN Classifier has :',knn_acc,'% accuracy')"
      ],
      "execution_count": null,
      "outputs": [
        {
          "output_type": "stream",
          "name": "stdout",
          "text": [
            "The KNN Classifier has : 73.11999999999999 % accuracy\n"
          ]
        }
      ]
    },
    {
      "cell_type": "code",
      "metadata": {
        "id": "OQmYnBZy2dPZ",
        "colab": {
          "base_uri": "https://localhost:8080/"
        },
        "outputId": "ed8d9d8e-ffd8-48d7-9f84-af6772c157d5"
      },
      "source": [
        "matrix = metrics.confusion_matrix(y_test, knn_predicted )\n",
        "print('Confusion matrix: \\n', matrix)"
      ],
      "execution_count": null,
      "outputs": [
        {
          "output_type": "stream",
          "name": "stdout",
          "text": [
            "Confusion matrix: \n",
            " [[1761   42    0    0   27    0    2    1   10    7    3    1   39  184\n",
            "     0]\n",
            " [ 383 1030    0    0  187    1    0    0   36   37   35    0  162  119\n",
            "     0]\n",
            " [ 161   47 1537    4   77    1    6    6   14   16   14    2   64   21\n",
            "     3]\n",
            " [  82   27   11 1797   30    0    3    1    9   10    6    3   23    7\n",
            "     0]\n",
            " [ 146   22    3    0 1569    0    4    2   10    8    7    0   51  200\n",
            "     2]\n",
            " [ 181   44    7    1  107 1530    0    2   23   13   10    0   63   25\n",
            "     1]\n",
            " [  92   30    9    1   60    0 1657    1   19    9   12    2   49   15\n",
            "     2]\n",
            " [ 155   32    7    6   79    2    2 1556   16   17   16    0   68   22\n",
            "     0]\n",
            " [ 326   75    2    0  201    0    1    0 1096   39   56    0  121  111\n",
            "     0]\n",
            " [ 247   66    3    0  137    0    1    0   44 1205   28    0  112  118\n",
            "     0]\n",
            " [ 265   82    2    0  145    0    3    0   39   27 1200    0   99  116\n",
            "     1]\n",
            " [ 114   34    1    2   59    3    9    1   18   12   11 1627   44   13\n",
            "    80]\n",
            " [ 163   43    0    0   73    0    2    1   19   18   14    1 1474  187\n",
            "     1]\n",
            " [ 255   84    2    0  138    0    1    1   36   44   29    1  131 1270\n",
            "     2]\n",
            " [ 104   28    4    4   56    1    6    1   12    6   14   71   41   23\n",
            "  1627]]\n"
          ]
        }
      ]
    },
    {
      "cell_type": "markdown",
      "metadata": {
        "id": "YFOR9X5L3C46"
      },
      "source": [
        "# SUMMARY"
      ]
    },
    {
      "cell_type": "code",
      "metadata": {
        "id": "Sg-tU1MM3IDs"
      },
      "source": [
        ""
      ],
      "execution_count": null,
      "outputs": []
    },
    {
      "cell_type": "markdown",
      "metadata": {
        "id": "cbTxrzXa4doV"
      },
      "source": [
        "\n",
        "              MODEL              | accuracy      | \n",
        "              -------------------|---------------|\n",
        "              logestic regression| 94.22         |  \n",
        "              knn                | 73.11         |  \n",
        "              deep learning      | 94.13         |  \n",
        "              decision tree      | 88.46         |  \n",
        "              naive bayes        | 92.93         |  "
      ]
    },
    {
      "cell_type": "code",
      "metadata": {
        "id": "jdgd4jf1EGhg"
      },
      "source": [
        ""
      ],
      "execution_count": null,
      "outputs": []
    }
  ]
}